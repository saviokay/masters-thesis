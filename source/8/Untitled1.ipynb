{
 "cells": [
  {
   "cell_type": "code",
   "execution_count": 2,
   "metadata": {},
   "outputs": [
    {
     "name": "stdout",
     "output_type": "stream",
     "text": [
      "-rw-rw----  1 savio1 pi_jianwu   524544 Jul  5 23:05 2019-07-05_Friday_225813.hdf\n",
      "-rw-rw----  1 savio1 pi_jianwu   524544 Jul  5 23:25 2019-07-05_Friday_231822.hdf\n",
      "-rw-rw----  1 savio1 pi_jianwu   524544 Jul  6 02:56 2019-07-05_Friday_232927.hdf\n",
      "-rw-rw----  1 savio1 pi_jianwu   524544 Jul  6 23:52 2019-07-06_Saturday_234341.hdf\n",
      "-rw-rw----  1 savio1 pi_jianwu   524544 Jul  7 00:37 2019-07-07_Sunday_001252.hdf\n",
      "-rw-rw----  1 savio1 pi_jianwu   524544 Jun 27 17:27 foursub8n_onemonth.hdf\n",
      "-rw-rw----  1 savio1 pi_jianwu   524544 Jun 27 17:50 nonsub8n_onemonth.hdf\n",
      "-rw-rw----  1 savio1 pi_jianwu   524544 Jul  2 01:36 test123.hdf\n",
      "-rw-rw----  1 savio1 pi_jianwu   524544 Jun 27 05:53 threesub8n_onemonth.hdf\n",
      "-rw-rw----  1 savio1 pi_jianwu   524544 Jun 27 07:16 twosub8n_onemonth.hdf\n"
     ]
    }
   ],
   "source": [
    "!ls -la | grep .hdf"
   ]
  },
  {
   "cell_type": "code",
   "execution_count": null,
   "metadata": {},
   "outputs": [],
   "source": [
    "import dask\n",
    "import numpy as np\n",
    "import xarray as xr\n",
    "import glob\n",
    "import matplotlib.pyplot as plt\n",
    "import time\n",
    "d06 = xr.open_mfdataset('nonsub8n_onemonth.hdf')['__xarray_dataarray_variable__'][:,:,:].values"
   ]
  },
  {
   "cell_type": "code",
   "execution_count": null,
   "metadata": {},
   "outputs": [],
   "source": []
  }
 ],
 "metadata": {
  "kernelspec": {
   "display_name": "Python 3",
   "language": "python",
   "name": "python3"
  },
  "language_info": {
   "codemirror_mode": {
    "name": "ipython",
    "version": 3
   },
   "file_extension": ".py",
   "mimetype": "text/x-python",
   "name": "python",
   "nbconvert_exporter": "python",
   "pygments_lexer": "ipython3",
   "version": "3.7.3"
  }
 },
 "nbformat": 4,
 "nbformat_minor": 2
}
