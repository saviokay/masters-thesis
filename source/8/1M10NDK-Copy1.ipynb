{
 "cells": [
  {
   "cell_type": "code",
   "execution_count": 1,
   "metadata": {},
   "outputs": [],
   "source": [
    "import dask\n",
    "import numpy as np\n",
    "import xarray as xr\n",
    "import glob\n",
    "import matplotlib.pyplot as plt\n",
    "import time\n",
    "import datetime\n",
    "from dask_jobqueue import SLURMCluster\n",
    "from dask.distributed import Client\n",
    "import warnings"
   ]
  },
  {
   "cell_type": "code",
   "execution_count": 2,
   "metadata": {},
   "outputs": [
    {
     "data": {
      "text/plain": [
       "'2019-07-11_Thursday_130815'"
      ]
     },
     "execution_count": 2,
     "metadata": {},
     "output_type": "execute_result"
    }
   ],
   "source": [
    "warnings.filterwarnings('ignore')\n",
    "now = datetime.datetime.now()\n",
    "now_string = str(now.strftime(\"%Y-%m-%d_%A_%H%M%S\"))\n",
    "now_string"
   ]
  },
  {
   "cell_type": "code",
   "execution_count": 3,
   "metadata": {},
   "outputs": [],
   "source": [
    "cluster = SLURMCluster(cores=16, memory='20GB', project='pi_jianwu', queue='high_mem', job_extra=['--qos=medium+','--exclusive'])"
   ]
  },
  {
   "cell_type": "code",
   "execution_count": 4,
   "metadata": {},
   "outputs": [],
   "source": [
    "cluster.scale(8)"
   ]
  },
  {
   "cell_type": "code",
   "execution_count": 5,
   "metadata": {},
   "outputs": [
    {
     "name": "stdout",
     "output_type": "stream",
     "text": [
      "             JOBID PARTITION     NAME     USER ST       TIME  NODES NODELIST(REASON)\n",
      "           1080298  high_mem dask-wor   savio1 CF       0:01      1 cnode033\n",
      "           1080299  high_mem dask-wor   savio1 CF       0:01      1 cnode034\n",
      "           1080300  high_mem dask-wor   savio1 CF       0:01      1 cnode043\n",
      "           1080301  high_mem dask-wor   savio1 CF       0:01      1 cnode044\n",
      "           1080302  high_mem dask-wor   savio1 CF       0:01      1 cnode002\n",
      "           1080303  high_mem dask-wor   savio1 CF       0:01      1 cnode003\n",
      "           1080304  high_mem dask-wor   savio1 PD       0:00      1 (QOSMaxCpuPerUserLimit)\n",
      "           1080305  high_mem dask-wor   savio1 PD       0:00      1 (QOSMaxCpuPerUserLimit)\n",
      "           1080297  high_mem   tunnel   savio1  R       6:15      4 cnode[039-042]\n"
     ]
    }
   ],
   "source": [
    "!squeue -u savio1"
   ]
  },
  {
   "cell_type": "code",
   "execution_count": null,
   "metadata": {},
   "outputs": [],
   "source": [
    "client = Client()"
   ]
  },
  {
   "cell_type": "code",
   "execution_count": 7,
   "metadata": {},
   "outputs": [
    {
     "data": {
      "text/plain": [
       "'http://10.2.1.39:8787/status'"
      ]
     },
     "execution_count": 7,
     "metadata": {},
     "output_type": "execute_result"
    }
   ],
   "source": [
    "cluster.dashboard_link"
   ]
  },
  {
   "cell_type": "code",
   "execution_count": 8,
   "metadata": {},
   "outputs": [
    {
     "data": {
      "text/plain": [
       "OrderedDict()"
      ]
     },
     "execution_count": 8,
     "metadata": {},
     "output_type": "execute_result"
    }
   ],
   "source": [
    "cluster.running_jobs"
   ]
  },
  {
   "cell_type": "code",
   "execution_count": 9,
   "metadata": {},
   "outputs": [
    {
     "data": {
      "text/plain": [
       "OrderedDict([('1080298', {}),\n",
       "             ('1080299', {}),\n",
       "             ('1080300', {}),\n",
       "             ('1080301', {}),\n",
       "             ('1080302', {}),\n",
       "             ('1080303', {}),\n",
       "             ('1080304', {}),\n",
       "             ('1080305', {})])"
      ]
     },
     "execution_count": 9,
     "metadata": {},
     "output_type": "execute_result"
    }
   ],
   "source": [
    "cluster.pending_jobs"
   ]
  },
  {
   "cell_type": "code",
   "execution_count": 10,
   "metadata": {},
   "outputs": [
    {
     "data": {
      "text/plain": [
       "'tcp://10.2.1.39:34010'"
      ]
     },
     "execution_count": 10,
     "metadata": {},
     "output_type": "execute_result"
    }
   ],
   "source": [
    "cluster.scheduler_address"
   ]
  },
  {
   "cell_type": "code",
   "execution_count": 18,
   "metadata": {},
   "outputs": [
    {
     "name": "stderr",
     "output_type": "stream",
     "text": [
      "distributed.nanny - WARNING - Worker process still alive after 47 seconds, killing\n",
      "distributed.nanny - WARNING - Worker process still alive after 47 seconds, killing\n",
      "distributed.nanny - WARNING - Worker process still alive after 47 seconds, killing\n",
      "distributed.nanny - WARNING - Worker process still alive after 47 seconds, killing\n",
      "distributed.nanny - WARNING - Worker process still alive after 47 seconds, killing\n",
      "distributed.nanny - WARNING - Worker process still alive after 47 seconds, killing\n",
      "distributed.nanny - WARNING - Worker process 374139 was killed by signal 15\n",
      "distributed.nanny - WARNING - Worker process 374142 was killed by signal 15\n",
      "distributed.nanny - WARNING - Worker process 374145 was killed by signal 15\n",
      "distributed.nanny - WARNING - Worker process 374148 was killed by signal 15\n",
      "distributed.nanny - WARNING - Worker process 374155 was killed by signal 15\n",
      "distributed.nanny - WARNING - Worker process 374151 was killed by signal 15\n",
      "distributed.nanny - WARNING - Worker process still alive after 47 seconds, killing\n",
      "distributed.nanny - WARNING - Worker process still alive after 47 seconds, killing\n",
      "distributed.nanny - WARNING - Worker process still alive after 47 seconds, killing\n",
      "distributed.nanny - WARNING - Worker process still alive after 47 seconds, killing\n",
      "distributed.nanny - WARNING - Worker process still alive after 47 seconds, killing\n",
      "distributed.nanny - WARNING - Worker process still alive after 47 seconds, killing\n",
      "distributed.nanny - WARNING - Worker process still alive after 47 seconds, killing\n",
      "distributed.nanny - WARNING - Worker process still alive after 47 seconds, killing\n",
      "distributed.nanny - WARNING - Worker process still alive after 47 seconds, killing\n",
      "distributed.nanny - WARNING - Worker process still alive after 47 seconds, killing\n",
      "distributed.nanny - WARNING - Worker process still alive after 47 seconds, killing\n",
      "distributed.nanny - WARNING - Worker process still alive after 47 seconds, killing\n",
      "distributed.nanny - WARNING - Worker process still alive after 47 seconds, killing\n",
      "distributed.nanny - WARNING - Worker process still alive after 47 seconds, killing\n",
      "distributed.nanny - WARNING - Worker process 374176 was killed by signal 15\n",
      "distributed.nanny - WARNING - Worker process 374179 was killed by signal 15\n",
      "distributed.nanny - WARNING - Worker process 374188 was killed by signal 15\n",
      "distributed.nanny - WARNING - Worker process 374182 was killed by signal 15\n",
      "distributed.nanny - WARNING - Worker process 374185 was killed by signal 15\n",
      "distributed.nanny - WARNING - Worker process 374191 was killed by signal 15\n",
      "distributed.nanny - WARNING - Worker process 374194 was killed by signal 15\n",
      "distributed.nanny - WARNING - Worker process 374197 was killed by signal 15\n",
      "distributed.nanny - WARNING - Worker process 374170 was killed by signal 15\n",
      "distributed.nanny - WARNING - Worker process 374158 was killed by signal 15\n",
      "distributed.nanny - WARNING - Worker process 374164 was killed by signal 15\n",
      "distributed.nanny - WARNING - Worker process 374161 was killed by signal 15\n",
      "distributed.nanny - WARNING - Worker process 374167 was killed by signal 15\n",
      "distributed.nanny - WARNING - Worker process 374173 was killed by signal 15\n",
      "distributed.nanny - WARNING - Worker process still alive after 47 seconds, killing\n",
      "distributed.nanny - WARNING - Worker process still alive after 47 seconds, killing\n",
      "distributed.nanny - WARNING - Worker process still alive after 47 seconds, killing\n",
      "distributed.nanny - WARNING - Worker process still alive after 47 seconds, killing\n",
      "distributed.nanny - WARNING - Worker process still alive after 47 seconds, killing\n",
      "distributed.nanny - WARNING - Worker process 374212 was killed by signal 15\n",
      "distributed.nanny - WARNING - Worker process 374215 was killed by signal 15\n",
      "distributed.nanny - WARNING - Worker process 374218 was killed by signal 15\n",
      "distributed.nanny - WARNING - Worker process still alive after 47 seconds, killing\n",
      "distributed.nanny - WARNING - Worker process still alive after 47 seconds, killing\n",
      "distributed.nanny - WARNING - Worker process 374221 was killed by signal 15\n",
      "distributed.nanny - WARNING - Worker process still alive after 47 seconds, killing\n",
      "distributed.nanny - WARNING - Worker process still alive after 47 seconds, killing\n",
      "distributed.nanny - WARNING - Worker process still alive after 47 seconds, killing\n",
      "distributed.nanny - WARNING - Worker process 374225 was killed by signal 15\n",
      "distributed.nanny - WARNING - Worker process still alive after 47 seconds, killing\n",
      "distributed.nanny - WARNING - Worker process 374200 was killed by signal 15\n",
      "distributed.nanny - WARNING - Worker process 374228 was killed by signal 15\n",
      "distributed.nanny - WARNING - Worker process 374231 was killed by signal 15\n",
      "distributed.nanny - WARNING - Worker process 374203 was killed by signal 15\n",
      "distributed.nanny - WARNING - Worker process 374206 was killed by signal 15\n",
      "distributed.nanny - WARNING - Worker process 374209 was killed by signal 15\n",
      "distributed.nanny - WARNING - Worker process still alive after 47 seconds, killing\n",
      "distributed.nanny - WARNING - Worker process still alive after 47 seconds, killing\n",
      "distributed.nanny - WARNING - Worker process 374243 was killed by signal 15\n",
      "distributed.nanny - WARNING - Worker process 374246 was killed by signal 15\n",
      "distributed.nanny - WARNING - Worker process still alive after 47 seconds, killing\n",
      "distributed.nanny - WARNING - Worker process still alive after 47 seconds, killing\n",
      "distributed.nanny - WARNING - Worker process still alive after 47 seconds, killing\n",
      "tornado.application - ERROR - Multiple exceptions in yield list\n",
      "Traceback (most recent call last):\n",
      "  File \"/umbc/xfs1/jianwu/common/anaconda3/lib/python3.7/site-packages/tornado/gen.py\", line 883, in callback\n",
      "    result_list.append(f.result())\n",
      "  File \"/umbc/xfs1/jianwu/common/anaconda3/lib/python3.7/site-packages/tornado/gen.py\", line 1147, in run\n",
      "    yielded = self.gen.send(value)\n",
      "  File \"/umbc/xfs1/jianwu/common/anaconda3/lib/python3.7/site-packages/distributed/deploy/local.py\", line 217, in _start_worker\n",
      "    raise gen.TimeoutError(\"Worker failed to start\")\n",
      "tornado.util.TimeoutError: Worker failed to start\n",
      "tornado.application - ERROR - Multiple exceptions in yield list\n",
      "Traceback (most recent call last):\n",
      "  File \"/umbc/xfs1/jianwu/common/anaconda3/lib/python3.7/site-packages/tornado/gen.py\", line 883, in callback\n",
      "    result_list.append(f.result())\n",
      "  File \"/umbc/xfs1/jianwu/common/anaconda3/lib/python3.7/site-packages/tornado/gen.py\", line 1147, in run\n",
      "    yielded = self.gen.send(value)\n",
      "  File \"/umbc/xfs1/jianwu/common/anaconda3/lib/python3.7/site-packages/distributed/deploy/local.py\", line 217, in _start_worker\n",
      "    raise gen.TimeoutError(\"Worker failed to start\")\n",
      "tornado.util.TimeoutError: Worker failed to start\n",
      "tornado.application - ERROR - Multiple exceptions in yield list\n",
      "Traceback (most recent call last):\n",
      "  File \"/umbc/xfs1/jianwu/common/anaconda3/lib/python3.7/site-packages/tornado/gen.py\", line 883, in callback\n",
      "    result_list.append(f.result())\n",
      "  File \"/umbc/xfs1/jianwu/common/anaconda3/lib/python3.7/site-packages/tornado/gen.py\", line 1147, in run\n",
      "    yielded = self.gen.send(value)\n",
      "  File \"/umbc/xfs1/jianwu/common/anaconda3/lib/python3.7/site-packages/distributed/deploy/local.py\", line 217, in _start_worker\n",
      "    raise gen.TimeoutError(\"Worker failed to start\")\n",
      "tornado.util.TimeoutError: Worker failed to start\n",
      "tornado.application - ERROR - Multiple exceptions in yield list\n",
      "Traceback (most recent call last):\n",
      "  File \"/umbc/xfs1/jianwu/common/anaconda3/lib/python3.7/site-packages/tornado/gen.py\", line 883, in callback\n",
      "    result_list.append(f.result())\n",
      "  File \"/umbc/xfs1/jianwu/common/anaconda3/lib/python3.7/site-packages/tornado/gen.py\", line 1147, in run\n",
      "    yielded = self.gen.send(value)\n",
      "  File \"/umbc/xfs1/jianwu/common/anaconda3/lib/python3.7/site-packages/distributed/deploy/local.py\", line 217, in _start_worker\n",
      "    raise gen.TimeoutError(\"Worker failed to start\")\n",
      "tornado.util.TimeoutError: Worker failed to start\n",
      "tornado.application - ERROR - Multiple exceptions in yield list\n",
      "Traceback (most recent call last):\n",
      "  File \"/umbc/xfs1/jianwu/common/anaconda3/lib/python3.7/site-packages/tornado/gen.py\", line 883, in callback\n",
      "    result_list.append(f.result())\n",
      "  File \"/umbc/xfs1/jianwu/common/anaconda3/lib/python3.7/site-packages/tornado/gen.py\", line 1147, in run\n",
      "    yielded = self.gen.send(value)\n",
      "  File \"/umbc/xfs1/jianwu/common/anaconda3/lib/python3.7/site-packages/distributed/deploy/local.py\", line 217, in _start_worker\n",
      "    raise gen.TimeoutError(\"Worker failed to start\")\n",
      "tornado.util.TimeoutError: Worker failed to start\n",
      "tornado.application - ERROR - Multiple exceptions in yield list\n",
      "Traceback (most recent call last):\n",
      "  File \"/umbc/xfs1/jianwu/common/anaconda3/lib/python3.7/site-packages/tornado/gen.py\", line 883, in callback\n",
      "    result_list.append(f.result())\n",
      "  File \"/umbc/xfs1/jianwu/common/anaconda3/lib/python3.7/site-packages/tornado/gen.py\", line 1147, in run\n",
      "    yielded = self.gen.send(value)\n",
      "  File \"/umbc/xfs1/jianwu/common/anaconda3/lib/python3.7/site-packages/distributed/deploy/local.py\", line 217, in _start_worker\n",
      "    raise gen.TimeoutError(\"Worker failed to start\")\n",
      "tornado.util.TimeoutError: Worker failed to start\n",
      "tornado.application - ERROR - Multiple exceptions in yield list\n",
      "Traceback (most recent call last):\n",
      "  File \"/umbc/xfs1/jianwu/common/anaconda3/lib/python3.7/site-packages/tornado/gen.py\", line 883, in callback\n",
      "    result_list.append(f.result())\n",
      "  File \"/umbc/xfs1/jianwu/common/anaconda3/lib/python3.7/site-packages/tornado/gen.py\", line 1147, in run\n",
      "    yielded = self.gen.send(value)\n",
      "  File \"/umbc/xfs1/jianwu/common/anaconda3/lib/python3.7/site-packages/distributed/deploy/local.py\", line 217, in _start_worker\n",
      "    raise gen.TimeoutError(\"Worker failed to start\")\n",
      "tornado.util.TimeoutError: Worker failed to start\n",
      "tornado.application - ERROR - Multiple exceptions in yield list\n",
      "Traceback (most recent call last):\n",
      "  File \"/umbc/xfs1/jianwu/common/anaconda3/lib/python3.7/site-packages/tornado/gen.py\", line 883, in callback\n",
      "    result_list.append(f.result())\n",
      "  File \"/umbc/xfs1/jianwu/common/anaconda3/lib/python3.7/site-packages/tornado/gen.py\", line 1147, in run\n",
      "    yielded = self.gen.send(value)\n",
      "  File \"/umbc/xfs1/jianwu/common/anaconda3/lib/python3.7/site-packages/distributed/deploy/local.py\", line 217, in _start_worker\n",
      "    raise gen.TimeoutError(\"Worker failed to start\")\n",
      "tornado.util.TimeoutError: Worker failed to start\n",
      "tornado.application - ERROR - Multiple exceptions in yield list\n",
      "Traceback (most recent call last):\n",
      "  File \"/umbc/xfs1/jianwu/common/anaconda3/lib/python3.7/site-packages/tornado/gen.py\", line 883, in callback\n",
      "    result_list.append(f.result())\n",
      "  File \"/umbc/xfs1/jianwu/common/anaconda3/lib/python3.7/site-packages/tornado/gen.py\", line 1147, in run\n",
      "    yielded = self.gen.send(value)\n",
      "  File \"/umbc/xfs1/jianwu/common/anaconda3/lib/python3.7/site-packages/distributed/deploy/local.py\", line 217, in _start_worker\n",
      "    raise gen.TimeoutError(\"Worker failed to start\")\n",
      "tornado.util.TimeoutError: Worker failed to start\n",
      "tornado.application - ERROR - Multiple exceptions in yield list\n",
      "Traceback (most recent call last):\n",
      "  File \"/umbc/xfs1/jianwu/common/anaconda3/lib/python3.7/site-packages/tornado/gen.py\", line 883, in callback\n",
      "    result_list.append(f.result())\n",
      "  File \"/umbc/xfs1/jianwu/common/anaconda3/lib/python3.7/site-packages/tornado/gen.py\", line 1147, in run\n",
      "    yielded = self.gen.send(value)\n",
      "  File \"/umbc/xfs1/jianwu/common/anaconda3/lib/python3.7/site-packages/distributed/deploy/local.py\", line 217, in _start_worker\n",
      "    raise gen.TimeoutError(\"Worker failed to start\")\n",
      "tornado.util.TimeoutError: Worker failed to start\n",
      "tornado.application - ERROR - Multiple exceptions in yield list\n",
      "Traceback (most recent call last):\n",
      "  File \"/umbc/xfs1/jianwu/common/anaconda3/lib/python3.7/site-packages/tornado/gen.py\", line 883, in callback\n",
      "    result_list.append(f.result())\n",
      "  File \"/umbc/xfs1/jianwu/common/anaconda3/lib/python3.7/site-packages/tornado/gen.py\", line 1147, in run\n",
      "    yielded = self.gen.send(value)\n",
      "  File \"/umbc/xfs1/jianwu/common/anaconda3/lib/python3.7/site-packages/distributed/deploy/local.py\", line 217, in _start_worker\n",
      "    raise gen.TimeoutError(\"Worker failed to start\")\n",
      "tornado.util.TimeoutError: Worker failed to start\n",
      "tornado.application - ERROR - Multiple exceptions in yield list\n",
      "Traceback (most recent call last):\n",
      "  File \"/umbc/xfs1/jianwu/common/anaconda3/lib/python3.7/site-packages/tornado/gen.py\", line 883, in callback\n",
      "    result_list.append(f.result())\n",
      "  File \"/umbc/xfs1/jianwu/common/anaconda3/lib/python3.7/site-packages/tornado/gen.py\", line 1147, in run\n",
      "    yielded = self.gen.send(value)\n",
      "  File \"/umbc/xfs1/jianwu/common/anaconda3/lib/python3.7/site-packages/distributed/deploy/local.py\", line 217, in _start_worker\n",
      "    raise gen.TimeoutError(\"Worker failed to start\")\n",
      "tornado.util.TimeoutError: Worker failed to start\n",
      "tornado.application - ERROR - Multiple exceptions in yield list\n",
      "Traceback (most recent call last):\n",
      "  File \"/umbc/xfs1/jianwu/common/anaconda3/lib/python3.7/site-packages/tornado/gen.py\", line 883, in callback\n",
      "    result_list.append(f.result())\n",
      "  File \"/umbc/xfs1/jianwu/common/anaconda3/lib/python3.7/site-packages/tornado/gen.py\", line 1147, in run\n",
      "    yielded = self.gen.send(value)\n",
      "  File \"/umbc/xfs1/jianwu/common/anaconda3/lib/python3.7/site-packages/distributed/deploy/local.py\", line 217, in _start_worker\n",
      "    raise gen.TimeoutError(\"Worker failed to start\")\n",
      "tornado.util.TimeoutError: Worker failed to start\n",
      "tornado.application - ERROR - Multiple exceptions in yield list\n",
      "Traceback (most recent call last):\n",
      "  File \"/umbc/xfs1/jianwu/common/anaconda3/lib/python3.7/site-packages/tornado/gen.py\", line 883, in callback\n",
      "    result_list.append(f.result())\n",
      "  File \"/umbc/xfs1/jianwu/common/anaconda3/lib/python3.7/site-packages/tornado/gen.py\", line 1147, in run\n",
      "    yielded = self.gen.send(value)\n",
      "  File \"/umbc/xfs1/jianwu/common/anaconda3/lib/python3.7/site-packages/distributed/deploy/local.py\", line 217, in _start_worker\n",
      "    raise gen.TimeoutError(\"Worker failed to start\")\n",
      "tornado.util.TimeoutError: Worker failed to start\n",
      "tornado.application - ERROR - Multiple exceptions in yield list\n",
      "Traceback (most recent call last):\n",
      "  File \"/umbc/xfs1/jianwu/common/anaconda3/lib/python3.7/site-packages/tornado/gen.py\", line 883, in callback\n",
      "    result_list.append(f.result())\n",
      "  File \"/umbc/xfs1/jianwu/common/anaconda3/lib/python3.7/site-packages/tornado/gen.py\", line 1147, in run\n",
      "    yielded = self.gen.send(value)\n",
      "  File \"/umbc/xfs1/jianwu/common/anaconda3/lib/python3.7/site-packages/distributed/deploy/local.py\", line 217, in _start_worker\n",
      "    raise gen.TimeoutError(\"Worker failed to start\")\n",
      "tornado.util.TimeoutError: Worker failed to start\n",
      "tornado.application - ERROR - Multiple exceptions in yield list\n",
      "Traceback (most recent call last):\n",
      "  File \"/umbc/xfs1/jianwu/common/anaconda3/lib/python3.7/site-packages/tornado/gen.py\", line 883, in callback\n",
      "    result_list.append(f.result())\n",
      "  File \"/umbc/xfs1/jianwu/common/anaconda3/lib/python3.7/site-packages/tornado/gen.py\", line 1147, in run\n",
      "    yielded = self.gen.send(value)\n",
      "  File \"/umbc/xfs1/jianwu/common/anaconda3/lib/python3.7/site-packages/distributed/deploy/local.py\", line 217, in _start_worker\n",
      "    raise gen.TimeoutError(\"Worker failed to start\")\n",
      "tornado.util.TimeoutError: Worker failed to start\n",
      "tornado.application - ERROR - Multiple exceptions in yield list\n",
      "Traceback (most recent call last):\n",
      "  File \"/umbc/xfs1/jianwu/common/anaconda3/lib/python3.7/site-packages/tornado/gen.py\", line 883, in callback\n",
      "    result_list.append(f.result())\n",
      "  File \"/umbc/xfs1/jianwu/common/anaconda3/lib/python3.7/site-packages/tornado/gen.py\", line 1147, in run\n",
      "    yielded = self.gen.send(value)\n",
      "  File \"/umbc/xfs1/jianwu/common/anaconda3/lib/python3.7/site-packages/distributed/deploy/local.py\", line 217, in _start_worker\n",
      "    raise gen.TimeoutError(\"Worker failed to start\")\n",
      "tornado.util.TimeoutError: Worker failed to start\n",
      "tornado.application - ERROR - Multiple exceptions in yield list\n",
      "Traceback (most recent call last):\n",
      "  File \"/umbc/xfs1/jianwu/common/anaconda3/lib/python3.7/site-packages/tornado/gen.py\", line 883, in callback\n",
      "    result_list.append(f.result())\n",
      "  File \"/umbc/xfs1/jianwu/common/anaconda3/lib/python3.7/site-packages/tornado/gen.py\", line 1147, in run\n",
      "    yielded = self.gen.send(value)\n",
      "  File \"/umbc/xfs1/jianwu/common/anaconda3/lib/python3.7/site-packages/distributed/deploy/local.py\", line 217, in _start_worker\n",
      "    raise gen.TimeoutError(\"Worker failed to start\")\n",
      "tornado.util.TimeoutError: Worker failed to start\n",
      "tornado.application - ERROR - Multiple exceptions in yield list\n",
      "Traceback (most recent call last):\n",
      "  File \"/umbc/xfs1/jianwu/common/anaconda3/lib/python3.7/site-packages/tornado/gen.py\", line 883, in callback\n",
      "    result_list.append(f.result())\n",
      "  File \"/umbc/xfs1/jianwu/common/anaconda3/lib/python3.7/site-packages/tornado/gen.py\", line 1147, in run\n",
      "    yielded = self.gen.send(value)\n",
      "  File \"/umbc/xfs1/jianwu/common/anaconda3/lib/python3.7/site-packages/distributed/deploy/local.py\", line 217, in _start_worker\n",
      "    raise gen.TimeoutError(\"Worker failed to start\")\n",
      "tornado.util.TimeoutError: Worker failed to start\n",
      "tornado.application - ERROR - Multiple exceptions in yield list\n",
      "Traceback (most recent call last):\n",
      "  File \"/umbc/xfs1/jianwu/common/anaconda3/lib/python3.7/site-packages/tornado/gen.py\", line 883, in callback\n",
      "    result_list.append(f.result())\n",
      "  File \"/umbc/xfs1/jianwu/common/anaconda3/lib/python3.7/site-packages/tornado/gen.py\", line 1147, in run\n",
      "    yielded = self.gen.send(value)\n",
      "  File \"/umbc/xfs1/jianwu/common/anaconda3/lib/python3.7/site-packages/distributed/deploy/local.py\", line 217, in _start_worker\n",
      "    raise gen.TimeoutError(\"Worker failed to start\")\n",
      "tornado.util.TimeoutError: Worker failed to start\n",
      "tornado.application - ERROR - Multiple exceptions in yield list\n",
      "Traceback (most recent call last):\n",
      "  File \"/umbc/xfs1/jianwu/common/anaconda3/lib/python3.7/site-packages/tornado/gen.py\", line 883, in callback\n",
      "    result_list.append(f.result())\n",
      "  File \"/umbc/xfs1/jianwu/common/anaconda3/lib/python3.7/site-packages/tornado/gen.py\", line 1147, in run\n",
      "    yielded = self.gen.send(value)\n",
      "  File \"/umbc/xfs1/jianwu/common/anaconda3/lib/python3.7/site-packages/distributed/deploy/local.py\", line 217, in _start_worker\n",
      "    raise gen.TimeoutError(\"Worker failed to start\")\n",
      "tornado.util.TimeoutError: Worker failed to start\n",
      "tornado.application - ERROR - Multiple exceptions in yield list\n",
      "Traceback (most recent call last):\n",
      "  File \"/umbc/xfs1/jianwu/common/anaconda3/lib/python3.7/site-packages/tornado/gen.py\", line 883, in callback\n",
      "    result_list.append(f.result())\n",
      "  File \"/umbc/xfs1/jianwu/common/anaconda3/lib/python3.7/site-packages/tornado/gen.py\", line 1147, in run\n",
      "    yielded = self.gen.send(value)\n",
      "  File \"/umbc/xfs1/jianwu/common/anaconda3/lib/python3.7/site-packages/distributed/deploy/local.py\", line 217, in _start_worker\n",
      "    raise gen.TimeoutError(\"Worker failed to start\")\n",
      "tornado.util.TimeoutError: Worker failed to start\n",
      "tornado.application - ERROR - Multiple exceptions in yield list\n",
      "Traceback (most recent call last):\n",
      "  File \"/umbc/xfs1/jianwu/common/anaconda3/lib/python3.7/site-packages/tornado/gen.py\", line 883, in callback\n",
      "    result_list.append(f.result())\n",
      "  File \"/umbc/xfs1/jianwu/common/anaconda3/lib/python3.7/site-packages/tornado/gen.py\", line 1147, in run\n",
      "    yielded = self.gen.send(value)\n",
      "  File \"/umbc/xfs1/jianwu/common/anaconda3/lib/python3.7/site-packages/distributed/deploy/local.py\", line 217, in _start_worker\n",
      "    raise gen.TimeoutError(\"Worker failed to start\")\n",
      "tornado.util.TimeoutError: Worker failed to start\n",
      "tornado.application - ERROR - Multiple exceptions in yield list\n",
      "Traceback (most recent call last):\n",
      "  File \"/umbc/xfs1/jianwu/common/anaconda3/lib/python3.7/site-packages/tornado/gen.py\", line 883, in callback\n",
      "    result_list.append(f.result())\n",
      "  File \"/umbc/xfs1/jianwu/common/anaconda3/lib/python3.7/site-packages/tornado/gen.py\", line 1147, in run\n",
      "    yielded = self.gen.send(value)\n",
      "  File \"/umbc/xfs1/jianwu/common/anaconda3/lib/python3.7/site-packages/distributed/deploy/local.py\", line 217, in _start_worker\n",
      "    raise gen.TimeoutError(\"Worker failed to start\")\n",
      "tornado.util.TimeoutError: Worker failed to start\n",
      "tornado.application - ERROR - Multiple exceptions in yield list\n",
      "Traceback (most recent call last):\n",
      "  File \"/umbc/xfs1/jianwu/common/anaconda3/lib/python3.7/site-packages/tornado/gen.py\", line 883, in callback\n",
      "    result_list.append(f.result())\n",
      "  File \"/umbc/xfs1/jianwu/common/anaconda3/lib/python3.7/site-packages/tornado/gen.py\", line 1147, in run\n",
      "    yielded = self.gen.send(value)\n",
      "  File \"/umbc/xfs1/jianwu/common/anaconda3/lib/python3.7/site-packages/distributed/deploy/local.py\", line 217, in _start_worker\n",
      "    raise gen.TimeoutError(\"Worker failed to start\")\n",
      "tornado.util.TimeoutError: Worker failed to start\n",
      "tornado.application - ERROR - Multiple exceptions in yield list\n",
      "Traceback (most recent call last):\n",
      "  File \"/umbc/xfs1/jianwu/common/anaconda3/lib/python3.7/site-packages/tornado/gen.py\", line 883, in callback\n",
      "    result_list.append(f.result())\n",
      "  File \"/umbc/xfs1/jianwu/common/anaconda3/lib/python3.7/site-packages/tornado/gen.py\", line 1147, in run\n",
      "    yielded = self.gen.send(value)\n",
      "  File \"/umbc/xfs1/jianwu/common/anaconda3/lib/python3.7/site-packages/distributed/deploy/local.py\", line 217, in _start_worker\n",
      "    raise gen.TimeoutError(\"Worker failed to start\")\n",
      "tornado.util.TimeoutError: Worker failed to start\n",
      "tornado.application - ERROR - Multiple exceptions in yield list\n",
      "Traceback (most recent call last):\n",
      "  File \"/umbc/xfs1/jianwu/common/anaconda3/lib/python3.7/site-packages/tornado/gen.py\", line 883, in callback\n",
      "    result_list.append(f.result())\n",
      "  File \"/umbc/xfs1/jianwu/common/anaconda3/lib/python3.7/site-packages/tornado/gen.py\", line 1147, in run\n",
      "    yielded = self.gen.send(value)\n",
      "  File \"/umbc/xfs1/jianwu/common/anaconda3/lib/python3.7/site-packages/distributed/deploy/local.py\", line 217, in _start_worker\n",
      "    raise gen.TimeoutError(\"Worker failed to start\")\n",
      "tornado.util.TimeoutError: Worker failed to start\n",
      "tornado.application - ERROR - Multiple exceptions in yield list\n",
      "Traceback (most recent call last):\n",
      "  File \"/umbc/xfs1/jianwu/common/anaconda3/lib/python3.7/site-packages/tornado/gen.py\", line 883, in callback\n",
      "    result_list.append(f.result())\n",
      "  File \"/umbc/xfs1/jianwu/common/anaconda3/lib/python3.7/site-packages/tornado/gen.py\", line 1147, in run\n",
      "    yielded = self.gen.send(value)\n",
      "  File \"/umbc/xfs1/jianwu/common/anaconda3/lib/python3.7/site-packages/distributed/deploy/local.py\", line 217, in _start_worker\n",
      "    raise gen.TimeoutError(\"Worker failed to start\")\n",
      "tornado.util.TimeoutError: Worker failed to start\n",
      "tornado.application - ERROR - Multiple exceptions in yield list\n",
      "Traceback (most recent call last):\n",
      "  File \"/umbc/xfs1/jianwu/common/anaconda3/lib/python3.7/site-packages/tornado/gen.py\", line 883, in callback\n",
      "    result_list.append(f.result())\n",
      "  File \"/umbc/xfs1/jianwu/common/anaconda3/lib/python3.7/site-packages/tornado/gen.py\", line 1147, in run\n",
      "    yielded = self.gen.send(value)\n",
      "  File \"/umbc/xfs1/jianwu/common/anaconda3/lib/python3.7/site-packages/distributed/deploy/local.py\", line 217, in _start_worker\n",
      "    raise gen.TimeoutError(\"Worker failed to start\")\n",
      "tornado.util.TimeoutError: Worker failed to start\n",
      "tornado.application - ERROR - Multiple exceptions in yield list\n",
      "Traceback (most recent call last):\n",
      "  File \"/umbc/xfs1/jianwu/common/anaconda3/lib/python3.7/site-packages/tornado/gen.py\", line 883, in callback\n",
      "    result_list.append(f.result())\n",
      "  File \"/umbc/xfs1/jianwu/common/anaconda3/lib/python3.7/site-packages/tornado/gen.py\", line 1147, in run\n",
      "    yielded = self.gen.send(value)\n",
      "  File \"/umbc/xfs1/jianwu/common/anaconda3/lib/python3.7/site-packages/distributed/deploy/local.py\", line 217, in _start_worker\n",
      "    raise gen.TimeoutError(\"Worker failed to start\")\n",
      "tornado.util.TimeoutError: Worker failed to start\n",
      "tornado.application - ERROR - Multiple exceptions in yield list\n",
      "Traceback (most recent call last):\n",
      "  File \"/umbc/xfs1/jianwu/common/anaconda3/lib/python3.7/site-packages/tornado/gen.py\", line 883, in callback\n",
      "    result_list.append(f.result())\n",
      "  File \"/umbc/xfs1/jianwu/common/anaconda3/lib/python3.7/site-packages/tornado/gen.py\", line 1147, in run\n",
      "    yielded = self.gen.send(value)\n",
      "  File \"/umbc/xfs1/jianwu/common/anaconda3/lib/python3.7/site-packages/distributed/deploy/local.py\", line 217, in _start_worker\n",
      "    raise gen.TimeoutError(\"Worker failed to start\")\n",
      "tornado.util.TimeoutError: Worker failed to start\n",
      "tornado.application - ERROR - Multiple exceptions in yield list\n",
      "Traceback (most recent call last):\n",
      "  File \"/umbc/xfs1/jianwu/common/anaconda3/lib/python3.7/site-packages/tornado/gen.py\", line 883, in callback\n",
      "    result_list.append(f.result())\n",
      "  File \"/umbc/xfs1/jianwu/common/anaconda3/lib/python3.7/site-packages/tornado/gen.py\", line 1147, in run\n",
      "    yielded = self.gen.send(value)\n",
      "  File \"/umbc/xfs1/jianwu/common/anaconda3/lib/python3.7/site-packages/distributed/deploy/local.py\", line 217, in _start_worker\n",
      "    raise gen.TimeoutError(\"Worker failed to start\")\n",
      "tornado.util.TimeoutError: Worker failed to start\n",
      "tornado.application - ERROR - Multiple exceptions in yield list\n",
      "Traceback (most recent call last):\n",
      "  File \"/umbc/xfs1/jianwu/common/anaconda3/lib/python3.7/site-packages/tornado/gen.py\", line 883, in callback\n",
      "    result_list.append(f.result())\n",
      "  File \"/umbc/xfs1/jianwu/common/anaconda3/lib/python3.7/site-packages/tornado/gen.py\", line 1147, in run\n",
      "    yielded = self.gen.send(value)\n",
      "  File \"/umbc/xfs1/jianwu/common/anaconda3/lib/python3.7/site-packages/distributed/deploy/local.py\", line 217, in _start_worker\n",
      "    raise gen.TimeoutError(\"Worker failed to start\")\n",
      "tornado.util.TimeoutError: Worker failed to start\n",
      "tornado.application - ERROR - Multiple exceptions in yield list\n",
      "Traceback (most recent call last):\n",
      "  File \"/umbc/xfs1/jianwu/common/anaconda3/lib/python3.7/site-packages/tornado/gen.py\", line 883, in callback\n",
      "    result_list.append(f.result())\n",
      "  File \"/umbc/xfs1/jianwu/common/anaconda3/lib/python3.7/site-packages/tornado/gen.py\", line 1147, in run\n",
      "    yielded = self.gen.send(value)\n",
      "  File \"/umbc/xfs1/jianwu/common/anaconda3/lib/python3.7/site-packages/distributed/deploy/local.py\", line 217, in _start_worker\n",
      "    raise gen.TimeoutError(\"Worker failed to start\")\n",
      "tornado.util.TimeoutError: Worker failed to start\n",
      "tornado.application - ERROR - Multiple exceptions in yield list\n",
      "Traceback (most recent call last):\n",
      "  File \"/umbc/xfs1/jianwu/common/anaconda3/lib/python3.7/site-packages/tornado/gen.py\", line 883, in callback\n",
      "    result_list.append(f.result())\n",
      "  File \"/umbc/xfs1/jianwu/common/anaconda3/lib/python3.7/site-packages/tornado/gen.py\", line 1147, in run\n",
      "    yielded = self.gen.send(value)\n",
      "  File \"/umbc/xfs1/jianwu/common/anaconda3/lib/python3.7/site-packages/distributed/deploy/local.py\", line 217, in _start_worker\n",
      "    raise gen.TimeoutError(\"Worker failed to start\")\n",
      "tornado.util.TimeoutError: Worker failed to start\n",
      "distributed.nanny - WARNING - Worker process 374234 was killed by signal 15\n",
      "distributed.nanny - WARNING - Worker process 374237 was killed by signal 15\n",
      "distributed.nanny - WARNING - Worker process 374240 was killed by signal 15\n"
     ]
    },
    {
     "ename": "TimeoutError",
     "evalue": "Worker failed to start",
     "output_type": "error",
     "traceback": [
      "\u001b[0;31m---------------------------------------------------------------------------\u001b[0m",
      "\u001b[0;31mTimeoutError\u001b[0m                              Traceback (most recent call last)",
      "\u001b[0;32m<ipython-input-18-84f8000c6f67>\u001b[0m in \u001b[0;36m<module>\u001b[0;34m\u001b[0m\n\u001b[0;32m----> 1\u001b[0;31m \u001b[0mclient\u001b[0m \u001b[0;34m=\u001b[0m \u001b[0mClient\u001b[0m\u001b[0;34m(\u001b[0m\u001b[0;34m)\u001b[0m\u001b[0;34m\u001b[0m\u001b[0;34m\u001b[0m\u001b[0m\n\u001b[0m",
      "\u001b[0;32m/umbc/xfs1/jianwu/common/anaconda3/lib/python3.7/site-packages/distributed/client.py\u001b[0m in \u001b[0;36m__init__\u001b[0;34m(self, address, loop, timeout, set_as_default, scheduler_file, security, asynchronous, name, heartbeat_interval, serializers, deserializers, extensions, direct_to_workers, **kwargs)\u001b[0m\n\u001b[1;32m    634\u001b[0m             \u001b[0mext\u001b[0m\u001b[0;34m(\u001b[0m\u001b[0mself\u001b[0m\u001b[0;34m)\u001b[0m\u001b[0;34m\u001b[0m\u001b[0;34m\u001b[0m\u001b[0m\n\u001b[1;32m    635\u001b[0m \u001b[0;34m\u001b[0m\u001b[0m\n\u001b[0;32m--> 636\u001b[0;31m         \u001b[0mself\u001b[0m\u001b[0;34m.\u001b[0m\u001b[0mstart\u001b[0m\u001b[0;34m(\u001b[0m\u001b[0mtimeout\u001b[0m\u001b[0;34m=\u001b[0m\u001b[0mtimeout\u001b[0m\u001b[0;34m)\u001b[0m\u001b[0;34m\u001b[0m\u001b[0;34m\u001b[0m\u001b[0m\n\u001b[0m\u001b[1;32m    637\u001b[0m \u001b[0;34m\u001b[0m\u001b[0m\n\u001b[1;32m    638\u001b[0m         \u001b[0;32mfrom\u001b[0m \u001b[0mdistributed\u001b[0m\u001b[0;34m.\u001b[0m\u001b[0mrecreate_exceptions\u001b[0m \u001b[0;32mimport\u001b[0m \u001b[0mReplayExceptionClient\u001b[0m\u001b[0;34m\u001b[0m\u001b[0;34m\u001b[0m\u001b[0m\n",
      "\u001b[0;32m/umbc/xfs1/jianwu/common/anaconda3/lib/python3.7/site-packages/distributed/client.py\u001b[0m in \u001b[0;36mstart\u001b[0;34m(self, **kwargs)\u001b[0m\n\u001b[1;32m    757\u001b[0m             \u001b[0mself\u001b[0m\u001b[0;34m.\u001b[0m\u001b[0m_started\u001b[0m \u001b[0;34m=\u001b[0m \u001b[0mself\u001b[0m\u001b[0;34m.\u001b[0m\u001b[0m_start\u001b[0m\u001b[0;34m(\u001b[0m\u001b[0;34m**\u001b[0m\u001b[0mkwargs\u001b[0m\u001b[0;34m)\u001b[0m\u001b[0;34m\u001b[0m\u001b[0;34m\u001b[0m\u001b[0m\n\u001b[1;32m    758\u001b[0m         \u001b[0;32melse\u001b[0m\u001b[0;34m:\u001b[0m\u001b[0;34m\u001b[0m\u001b[0;34m\u001b[0m\u001b[0m\n\u001b[0;32m--> 759\u001b[0;31m             \u001b[0msync\u001b[0m\u001b[0;34m(\u001b[0m\u001b[0mself\u001b[0m\u001b[0;34m.\u001b[0m\u001b[0mloop\u001b[0m\u001b[0;34m,\u001b[0m \u001b[0mself\u001b[0m\u001b[0;34m.\u001b[0m\u001b[0m_start\u001b[0m\u001b[0;34m,\u001b[0m \u001b[0;34m**\u001b[0m\u001b[0mkwargs\u001b[0m\u001b[0;34m)\u001b[0m\u001b[0;34m\u001b[0m\u001b[0;34m\u001b[0m\u001b[0m\n\u001b[0m\u001b[1;32m    760\u001b[0m \u001b[0;34m\u001b[0m\u001b[0m\n\u001b[1;32m    761\u001b[0m     \u001b[0;32mdef\u001b[0m \u001b[0m__await__\u001b[0m\u001b[0;34m(\u001b[0m\u001b[0mself\u001b[0m\u001b[0;34m)\u001b[0m\u001b[0;34m:\u001b[0m\u001b[0;34m\u001b[0m\u001b[0;34m\u001b[0m\u001b[0m\n",
      "\u001b[0;32m/umbc/xfs1/jianwu/common/anaconda3/lib/python3.7/site-packages/distributed/utils.py\u001b[0m in \u001b[0;36msync\u001b[0;34m(loop, func, *args, **kwargs)\u001b[0m\n\u001b[1;32m    275\u001b[0m             \u001b[0me\u001b[0m\u001b[0;34m.\u001b[0m\u001b[0mwait\u001b[0m\u001b[0;34m(\u001b[0m\u001b[0;36m10\u001b[0m\u001b[0;34m)\u001b[0m\u001b[0;34m\u001b[0m\u001b[0;34m\u001b[0m\u001b[0m\n\u001b[1;32m    276\u001b[0m     \u001b[0;32mif\u001b[0m \u001b[0merror\u001b[0m\u001b[0;34m[\u001b[0m\u001b[0;36m0\u001b[0m\u001b[0;34m]\u001b[0m\u001b[0;34m:\u001b[0m\u001b[0;34m\u001b[0m\u001b[0;34m\u001b[0m\u001b[0m\n\u001b[0;32m--> 277\u001b[0;31m         \u001b[0msix\u001b[0m\u001b[0;34m.\u001b[0m\u001b[0mreraise\u001b[0m\u001b[0;34m(\u001b[0m\u001b[0;34m*\u001b[0m\u001b[0merror\u001b[0m\u001b[0;34m[\u001b[0m\u001b[0;36m0\u001b[0m\u001b[0;34m]\u001b[0m\u001b[0;34m)\u001b[0m\u001b[0;34m\u001b[0m\u001b[0;34m\u001b[0m\u001b[0m\n\u001b[0m\u001b[1;32m    278\u001b[0m     \u001b[0;32melse\u001b[0m\u001b[0;34m:\u001b[0m\u001b[0;34m\u001b[0m\u001b[0;34m\u001b[0m\u001b[0m\n\u001b[1;32m    279\u001b[0m         \u001b[0;32mreturn\u001b[0m \u001b[0mresult\u001b[0m\u001b[0;34m[\u001b[0m\u001b[0;36m0\u001b[0m\u001b[0;34m]\u001b[0m\u001b[0;34m\u001b[0m\u001b[0;34m\u001b[0m\u001b[0m\n",
      "\u001b[0;32m/umbc/xfs1/jianwu/common/anaconda3/lib/python3.7/site-packages/six.py\u001b[0m in \u001b[0;36mreraise\u001b[0;34m(tp, value, tb)\u001b[0m\n\u001b[1;32m    691\u001b[0m             \u001b[0;32mif\u001b[0m \u001b[0mvalue\u001b[0m\u001b[0;34m.\u001b[0m\u001b[0m__traceback__\u001b[0m \u001b[0;32mis\u001b[0m \u001b[0;32mnot\u001b[0m \u001b[0mtb\u001b[0m\u001b[0;34m:\u001b[0m\u001b[0;34m\u001b[0m\u001b[0;34m\u001b[0m\u001b[0m\n\u001b[1;32m    692\u001b[0m                 \u001b[0;32mraise\u001b[0m \u001b[0mvalue\u001b[0m\u001b[0;34m.\u001b[0m\u001b[0mwith_traceback\u001b[0m\u001b[0;34m(\u001b[0m\u001b[0mtb\u001b[0m\u001b[0;34m)\u001b[0m\u001b[0;34m\u001b[0m\u001b[0;34m\u001b[0m\u001b[0m\n\u001b[0;32m--> 693\u001b[0;31m             \u001b[0;32mraise\u001b[0m \u001b[0mvalue\u001b[0m\u001b[0;34m\u001b[0m\u001b[0;34m\u001b[0m\u001b[0m\n\u001b[0m\u001b[1;32m    694\u001b[0m         \u001b[0;32mfinally\u001b[0m\u001b[0;34m:\u001b[0m\u001b[0;34m\u001b[0m\u001b[0;34m\u001b[0m\u001b[0m\n\u001b[1;32m    695\u001b[0m             \u001b[0mvalue\u001b[0m \u001b[0;34m=\u001b[0m \u001b[0;32mNone\u001b[0m\u001b[0;34m\u001b[0m\u001b[0;34m\u001b[0m\u001b[0m\n",
      "\u001b[0;32m/umbc/xfs1/jianwu/common/anaconda3/lib/python3.7/site-packages/distributed/utils.py\u001b[0m in \u001b[0;36mf\u001b[0;34m()\u001b[0m\n\u001b[1;32m    260\u001b[0m             \u001b[0;32mif\u001b[0m \u001b[0mtimeout\u001b[0m \u001b[0;32mis\u001b[0m \u001b[0;32mnot\u001b[0m \u001b[0;32mNone\u001b[0m\u001b[0;34m:\u001b[0m\u001b[0;34m\u001b[0m\u001b[0;34m\u001b[0m\u001b[0m\n\u001b[1;32m    261\u001b[0m                 \u001b[0mfuture\u001b[0m \u001b[0;34m=\u001b[0m \u001b[0mgen\u001b[0m\u001b[0;34m.\u001b[0m\u001b[0mwith_timeout\u001b[0m\u001b[0;34m(\u001b[0m\u001b[0mtimedelta\u001b[0m\u001b[0;34m(\u001b[0m\u001b[0mseconds\u001b[0m\u001b[0;34m=\u001b[0m\u001b[0mtimeout\u001b[0m\u001b[0;34m)\u001b[0m\u001b[0;34m,\u001b[0m \u001b[0mfuture\u001b[0m\u001b[0;34m)\u001b[0m\u001b[0;34m\u001b[0m\u001b[0;34m\u001b[0m\u001b[0m\n\u001b[0;32m--> 262\u001b[0;31m             \u001b[0mresult\u001b[0m\u001b[0;34m[\u001b[0m\u001b[0;36m0\u001b[0m\u001b[0;34m]\u001b[0m \u001b[0;34m=\u001b[0m \u001b[0;32myield\u001b[0m \u001b[0mfuture\u001b[0m\u001b[0;34m\u001b[0m\u001b[0;34m\u001b[0m\u001b[0m\n\u001b[0m\u001b[1;32m    263\u001b[0m         \u001b[0;32mexcept\u001b[0m \u001b[0mException\u001b[0m \u001b[0;32mas\u001b[0m \u001b[0mexc\u001b[0m\u001b[0;34m:\u001b[0m\u001b[0;34m\u001b[0m\u001b[0;34m\u001b[0m\u001b[0m\n\u001b[1;32m    264\u001b[0m             \u001b[0merror\u001b[0m\u001b[0;34m[\u001b[0m\u001b[0;36m0\u001b[0m\u001b[0;34m]\u001b[0m \u001b[0;34m=\u001b[0m \u001b[0msys\u001b[0m\u001b[0;34m.\u001b[0m\u001b[0mexc_info\u001b[0m\u001b[0;34m(\u001b[0m\u001b[0;34m)\u001b[0m\u001b[0;34m\u001b[0m\u001b[0;34m\u001b[0m\u001b[0m\n",
      "\u001b[0;32m/umbc/xfs1/jianwu/common/anaconda3/lib/python3.7/site-packages/tornado/gen.py\u001b[0m in \u001b[0;36mrun\u001b[0;34m(self)\u001b[0m\n\u001b[1;32m   1131\u001b[0m \u001b[0;34m\u001b[0m\u001b[0m\n\u001b[1;32m   1132\u001b[0m                     \u001b[0;32mtry\u001b[0m\u001b[0;34m:\u001b[0m\u001b[0;34m\u001b[0m\u001b[0;34m\u001b[0m\u001b[0m\n\u001b[0;32m-> 1133\u001b[0;31m                         \u001b[0mvalue\u001b[0m \u001b[0;34m=\u001b[0m \u001b[0mfuture\u001b[0m\u001b[0;34m.\u001b[0m\u001b[0mresult\u001b[0m\u001b[0;34m(\u001b[0m\u001b[0;34m)\u001b[0m\u001b[0;34m\u001b[0m\u001b[0;34m\u001b[0m\u001b[0m\n\u001b[0m\u001b[1;32m   1134\u001b[0m                     \u001b[0;32mexcept\u001b[0m \u001b[0mException\u001b[0m\u001b[0;34m:\u001b[0m\u001b[0;34m\u001b[0m\u001b[0;34m\u001b[0m\u001b[0m\n\u001b[1;32m   1135\u001b[0m                         \u001b[0mself\u001b[0m\u001b[0;34m.\u001b[0m\u001b[0mhad_exception\u001b[0m \u001b[0;34m=\u001b[0m \u001b[0;32mTrue\u001b[0m\u001b[0;34m\u001b[0m\u001b[0;34m\u001b[0m\u001b[0m\n",
      "\u001b[0;32m/umbc/xfs1/jianwu/common/anaconda3/lib/python3.7/site-packages/tornado/gen.py\u001b[0m in \u001b[0;36mrun\u001b[0;34m(self)\u001b[0m\n\u001b[1;32m   1139\u001b[0m                     \u001b[0;32mif\u001b[0m \u001b[0mexc_info\u001b[0m \u001b[0;32mis\u001b[0m \u001b[0;32mnot\u001b[0m \u001b[0;32mNone\u001b[0m\u001b[0;34m:\u001b[0m\u001b[0;34m\u001b[0m\u001b[0;34m\u001b[0m\u001b[0m\n\u001b[1;32m   1140\u001b[0m                         \u001b[0;32mtry\u001b[0m\u001b[0;34m:\u001b[0m\u001b[0;34m\u001b[0m\u001b[0;34m\u001b[0m\u001b[0m\n\u001b[0;32m-> 1141\u001b[0;31m                             \u001b[0myielded\u001b[0m \u001b[0;34m=\u001b[0m \u001b[0mself\u001b[0m\u001b[0;34m.\u001b[0m\u001b[0mgen\u001b[0m\u001b[0;34m.\u001b[0m\u001b[0mthrow\u001b[0m\u001b[0;34m(\u001b[0m\u001b[0;34m*\u001b[0m\u001b[0mexc_info\u001b[0m\u001b[0;34m)\u001b[0m\u001b[0;34m\u001b[0m\u001b[0;34m\u001b[0m\u001b[0m\n\u001b[0m\u001b[1;32m   1142\u001b[0m                         \u001b[0;32mfinally\u001b[0m\u001b[0;34m:\u001b[0m\u001b[0;34m\u001b[0m\u001b[0;34m\u001b[0m\u001b[0m\n\u001b[1;32m   1143\u001b[0m                             \u001b[0;31m# Break up a reference to itself\u001b[0m\u001b[0;34m\u001b[0m\u001b[0;34m\u001b[0m\u001b[0;34m\u001b[0m\u001b[0m\n",
      "\u001b[0;32m/umbc/xfs1/jianwu/common/anaconda3/lib/python3.7/site-packages/distributed/client.py\u001b[0m in \u001b[0;36m_start\u001b[0;34m(self, timeout, **kwargs)\u001b[0m\n\u001b[1;32m    820\u001b[0m                 self.cluster = LocalCluster(loop=self.loop, asynchronous=True,\n\u001b[1;32m    821\u001b[0m                                             **self._startup_kwargs)\n\u001b[0;32m--> 822\u001b[0;31m                 \u001b[0;32myield\u001b[0m \u001b[0mself\u001b[0m\u001b[0;34m.\u001b[0m\u001b[0mcluster\u001b[0m\u001b[0;34m\u001b[0m\u001b[0;34m\u001b[0m\u001b[0m\n\u001b[0m\u001b[1;32m    823\u001b[0m             \u001b[0;32mexcept\u001b[0m \u001b[0;34m(\u001b[0m\u001b[0mOSError\u001b[0m\u001b[0;34m,\u001b[0m \u001b[0msocket\u001b[0m\u001b[0;34m.\u001b[0m\u001b[0merror\u001b[0m\u001b[0;34m)\u001b[0m \u001b[0;32mas\u001b[0m \u001b[0me\u001b[0m\u001b[0;34m:\u001b[0m\u001b[0;34m\u001b[0m\u001b[0;34m\u001b[0m\u001b[0m\n\u001b[1;32m    824\u001b[0m                 \u001b[0;32mif\u001b[0m \u001b[0me\u001b[0m\u001b[0;34m.\u001b[0m\u001b[0merrno\u001b[0m \u001b[0;34m!=\u001b[0m \u001b[0merrno\u001b[0m\u001b[0;34m.\u001b[0m\u001b[0mEADDRINUSE\u001b[0m\u001b[0;34m:\u001b[0m\u001b[0;34m\u001b[0m\u001b[0;34m\u001b[0m\u001b[0m\n",
      "\u001b[0;32m/umbc/xfs1/jianwu/common/anaconda3/lib/python3.7/site-packages/tornado/gen.py\u001b[0m in \u001b[0;36mrun\u001b[0;34m(self)\u001b[0m\n\u001b[1;32m   1131\u001b[0m \u001b[0;34m\u001b[0m\u001b[0m\n\u001b[1;32m   1132\u001b[0m                     \u001b[0;32mtry\u001b[0m\u001b[0;34m:\u001b[0m\u001b[0;34m\u001b[0m\u001b[0;34m\u001b[0m\u001b[0m\n\u001b[0;32m-> 1133\u001b[0;31m                         \u001b[0mvalue\u001b[0m \u001b[0;34m=\u001b[0m \u001b[0mfuture\u001b[0m\u001b[0;34m.\u001b[0m\u001b[0mresult\u001b[0m\u001b[0;34m(\u001b[0m\u001b[0;34m)\u001b[0m\u001b[0;34m\u001b[0m\u001b[0;34m\u001b[0m\u001b[0m\n\u001b[0m\u001b[1;32m   1134\u001b[0m                     \u001b[0;32mexcept\u001b[0m \u001b[0mException\u001b[0m\u001b[0;34m:\u001b[0m\u001b[0;34m\u001b[0m\u001b[0;34m\u001b[0m\u001b[0m\n\u001b[1;32m   1135\u001b[0m                         \u001b[0mself\u001b[0m\u001b[0;34m.\u001b[0m\u001b[0mhad_exception\u001b[0m \u001b[0;34m=\u001b[0m \u001b[0;32mTrue\u001b[0m\u001b[0;34m\u001b[0m\u001b[0;34m\u001b[0m\u001b[0m\n",
      "\u001b[0;32m/umbc/xfs1/jianwu/common/anaconda3/lib/python3.7/asyncio/tasks.py\u001b[0m in \u001b[0;36m_wrap_awaitable\u001b[0;34m(awaitable)\u001b[0m\n\u001b[1;32m    601\u001b[0m     \u001b[0mthat\u001b[0m \u001b[0mwill\u001b[0m \u001b[0mlater\u001b[0m \u001b[0mbe\u001b[0m \u001b[0mwrapped\u001b[0m \u001b[0;32min\u001b[0m \u001b[0ma\u001b[0m \u001b[0mTask\u001b[0m \u001b[0mby\u001b[0m \u001b[0mensure_future\u001b[0m\u001b[0;34m(\u001b[0m\u001b[0;34m)\u001b[0m\u001b[0;34m.\u001b[0m\u001b[0;34m\u001b[0m\u001b[0;34m\u001b[0m\u001b[0m\n\u001b[1;32m    602\u001b[0m     \"\"\"\n\u001b[0;32m--> 603\u001b[0;31m     \u001b[0;32mreturn\u001b[0m \u001b[0;34m(\u001b[0m\u001b[0;32myield\u001b[0m \u001b[0;32mfrom\u001b[0m \u001b[0mawaitable\u001b[0m\u001b[0;34m.\u001b[0m\u001b[0m__await__\u001b[0m\u001b[0;34m(\u001b[0m\u001b[0;34m)\u001b[0m\u001b[0;34m)\u001b[0m\u001b[0;34m\u001b[0m\u001b[0;34m\u001b[0m\u001b[0m\n\u001b[0m\u001b[1;32m    604\u001b[0m \u001b[0;34m\u001b[0m\u001b[0m\n\u001b[1;32m    605\u001b[0m \u001b[0;34m\u001b[0m\u001b[0m\n",
      "\u001b[0;32m/umbc/xfs1/jianwu/common/anaconda3/lib/python3.7/site-packages/tornado/gen.py\u001b[0m in \u001b[0;36mrun\u001b[0;34m(self)\u001b[0m\n\u001b[1;32m   1139\u001b[0m                     \u001b[0;32mif\u001b[0m \u001b[0mexc_info\u001b[0m \u001b[0;32mis\u001b[0m \u001b[0;32mnot\u001b[0m \u001b[0;32mNone\u001b[0m\u001b[0;34m:\u001b[0m\u001b[0;34m\u001b[0m\u001b[0;34m\u001b[0m\u001b[0m\n\u001b[1;32m   1140\u001b[0m                         \u001b[0;32mtry\u001b[0m\u001b[0;34m:\u001b[0m\u001b[0;34m\u001b[0m\u001b[0;34m\u001b[0m\u001b[0m\n\u001b[0;32m-> 1141\u001b[0;31m                             \u001b[0myielded\u001b[0m \u001b[0;34m=\u001b[0m \u001b[0mself\u001b[0m\u001b[0;34m.\u001b[0m\u001b[0mgen\u001b[0m\u001b[0;34m.\u001b[0m\u001b[0mthrow\u001b[0m\u001b[0;34m(\u001b[0m\u001b[0;34m*\u001b[0m\u001b[0mexc_info\u001b[0m\u001b[0;34m)\u001b[0m\u001b[0;34m\u001b[0m\u001b[0;34m\u001b[0m\u001b[0m\n\u001b[0m\u001b[1;32m   1142\u001b[0m                         \u001b[0;32mfinally\u001b[0m\u001b[0;34m:\u001b[0m\u001b[0;34m\u001b[0m\u001b[0;34m\u001b[0m\u001b[0m\n\u001b[1;32m   1143\u001b[0m                             \u001b[0;31m# Break up a reference to itself\u001b[0m\u001b[0;34m\u001b[0m\u001b[0;34m\u001b[0m\u001b[0;34m\u001b[0m\u001b[0m\n",
      "\u001b[0;32m/umbc/xfs1/jianwu/common/anaconda3/lib/python3.7/site-packages/distributed/deploy/local.py\u001b[0m in \u001b[0;36m_start\u001b[0;34m(self, ip, n_workers)\u001b[0m\n\u001b[1;32m    189\u001b[0m         \u001b[0mself\u001b[0m\u001b[0;34m.\u001b[0m\u001b[0mscheduler\u001b[0m\u001b[0;34m.\u001b[0m\u001b[0mstart\u001b[0m\u001b[0;34m(\u001b[0m\u001b[0mscheduler_address\u001b[0m\u001b[0;34m)\u001b[0m\u001b[0;34m\u001b[0m\u001b[0;34m\u001b[0m\u001b[0m\n\u001b[1;32m    190\u001b[0m \u001b[0;34m\u001b[0m\u001b[0m\n\u001b[0;32m--> 191\u001b[0;31m         \u001b[0;32myield\u001b[0m \u001b[0;34m[\u001b[0m\u001b[0mself\u001b[0m\u001b[0;34m.\u001b[0m\u001b[0m_start_worker\u001b[0m\u001b[0;34m(\u001b[0m\u001b[0;34m**\u001b[0m\u001b[0mself\u001b[0m\u001b[0;34m.\u001b[0m\u001b[0mworker_kwargs\u001b[0m\u001b[0;34m)\u001b[0m \u001b[0;32mfor\u001b[0m \u001b[0mi\u001b[0m \u001b[0;32min\u001b[0m \u001b[0mrange\u001b[0m\u001b[0;34m(\u001b[0m\u001b[0mn_workers\u001b[0m\u001b[0;34m)\u001b[0m\u001b[0;34m]\u001b[0m\u001b[0;34m\u001b[0m\u001b[0;34m\u001b[0m\u001b[0m\n\u001b[0m\u001b[1;32m    192\u001b[0m \u001b[0;34m\u001b[0m\u001b[0m\n\u001b[1;32m    193\u001b[0m         \u001b[0mself\u001b[0m\u001b[0;34m.\u001b[0m\u001b[0mstatus\u001b[0m \u001b[0;34m=\u001b[0m \u001b[0;34m'running'\u001b[0m\u001b[0;34m\u001b[0m\u001b[0;34m\u001b[0m\u001b[0m\n",
      "\u001b[0;32m/umbc/xfs1/jianwu/common/anaconda3/lib/python3.7/site-packages/tornado/gen.py\u001b[0m in \u001b[0;36mrun\u001b[0;34m(self)\u001b[0m\n\u001b[1;32m   1131\u001b[0m \u001b[0;34m\u001b[0m\u001b[0m\n\u001b[1;32m   1132\u001b[0m                     \u001b[0;32mtry\u001b[0m\u001b[0;34m:\u001b[0m\u001b[0;34m\u001b[0m\u001b[0;34m\u001b[0m\u001b[0m\n\u001b[0;32m-> 1133\u001b[0;31m                         \u001b[0mvalue\u001b[0m \u001b[0;34m=\u001b[0m \u001b[0mfuture\u001b[0m\u001b[0;34m.\u001b[0m\u001b[0mresult\u001b[0m\u001b[0;34m(\u001b[0m\u001b[0;34m)\u001b[0m\u001b[0;34m\u001b[0m\u001b[0;34m\u001b[0m\u001b[0m\n\u001b[0m\u001b[1;32m   1134\u001b[0m                     \u001b[0;32mexcept\u001b[0m \u001b[0mException\u001b[0m\u001b[0;34m:\u001b[0m\u001b[0;34m\u001b[0m\u001b[0;34m\u001b[0m\u001b[0m\n\u001b[1;32m   1135\u001b[0m                         \u001b[0mself\u001b[0m\u001b[0;34m.\u001b[0m\u001b[0mhad_exception\u001b[0m \u001b[0;34m=\u001b[0m \u001b[0;32mTrue\u001b[0m\u001b[0;34m\u001b[0m\u001b[0;34m\u001b[0m\u001b[0m\n",
      "\u001b[0;32m/umbc/xfs1/jianwu/common/anaconda3/lib/python3.7/site-packages/tornado/gen.py\u001b[0m in \u001b[0;36mcallback\u001b[0;34m(f)\u001b[0m\n\u001b[1;32m    881\u001b[0m             \u001b[0;32mfor\u001b[0m \u001b[0mf\u001b[0m \u001b[0;32min\u001b[0m \u001b[0mchildren\u001b[0m\u001b[0;34m:\u001b[0m\u001b[0;34m\u001b[0m\u001b[0;34m\u001b[0m\u001b[0m\n\u001b[1;32m    882\u001b[0m                 \u001b[0;32mtry\u001b[0m\u001b[0;34m:\u001b[0m\u001b[0;34m\u001b[0m\u001b[0;34m\u001b[0m\u001b[0m\n\u001b[0;32m--> 883\u001b[0;31m                     \u001b[0mresult_list\u001b[0m\u001b[0;34m.\u001b[0m\u001b[0mappend\u001b[0m\u001b[0;34m(\u001b[0m\u001b[0mf\u001b[0m\u001b[0;34m.\u001b[0m\u001b[0mresult\u001b[0m\u001b[0;34m(\u001b[0m\u001b[0;34m)\u001b[0m\u001b[0;34m)\u001b[0m\u001b[0;34m\u001b[0m\u001b[0;34m\u001b[0m\u001b[0m\n\u001b[0m\u001b[1;32m    884\u001b[0m                 \u001b[0;32mexcept\u001b[0m \u001b[0mException\u001b[0m \u001b[0;32mas\u001b[0m \u001b[0me\u001b[0m\u001b[0;34m:\u001b[0m\u001b[0;34m\u001b[0m\u001b[0;34m\u001b[0m\u001b[0m\n\u001b[1;32m    885\u001b[0m                     \u001b[0;32mif\u001b[0m \u001b[0mfuture\u001b[0m\u001b[0;34m.\u001b[0m\u001b[0mdone\u001b[0m\u001b[0;34m(\u001b[0m\u001b[0;34m)\u001b[0m\u001b[0;34m:\u001b[0m\u001b[0;34m\u001b[0m\u001b[0;34m\u001b[0m\u001b[0m\n",
      "\u001b[0;32m/umbc/xfs1/jianwu/common/anaconda3/lib/python3.7/site-packages/tornado/gen.py\u001b[0m in \u001b[0;36mrun\u001b[0;34m(self)\u001b[0m\n\u001b[1;32m   1145\u001b[0m                             \u001b[0mexc_info\u001b[0m \u001b[0;34m=\u001b[0m \u001b[0;32mNone\u001b[0m\u001b[0;34m\u001b[0m\u001b[0;34m\u001b[0m\u001b[0m\n\u001b[1;32m   1146\u001b[0m                     \u001b[0;32melse\u001b[0m\u001b[0;34m:\u001b[0m\u001b[0;34m\u001b[0m\u001b[0;34m\u001b[0m\u001b[0m\n\u001b[0;32m-> 1147\u001b[0;31m                         \u001b[0myielded\u001b[0m \u001b[0;34m=\u001b[0m \u001b[0mself\u001b[0m\u001b[0;34m.\u001b[0m\u001b[0mgen\u001b[0m\u001b[0;34m.\u001b[0m\u001b[0msend\u001b[0m\u001b[0;34m(\u001b[0m\u001b[0mvalue\u001b[0m\u001b[0;34m)\u001b[0m\u001b[0;34m\u001b[0m\u001b[0;34m\u001b[0m\u001b[0m\n\u001b[0m\u001b[1;32m   1148\u001b[0m \u001b[0;34m\u001b[0m\u001b[0m\n\u001b[1;32m   1149\u001b[0m                     \u001b[0;32mif\u001b[0m \u001b[0mstack_context\u001b[0m\u001b[0;34m.\u001b[0m\u001b[0m_state\u001b[0m\u001b[0;34m.\u001b[0m\u001b[0mcontexts\u001b[0m \u001b[0;32mis\u001b[0m \u001b[0;32mnot\u001b[0m \u001b[0morig_stack_contexts\u001b[0m\u001b[0;34m:\u001b[0m\u001b[0;34m\u001b[0m\u001b[0;34m\u001b[0m\u001b[0m\n",
      "\u001b[0;32m/umbc/xfs1/jianwu/common/anaconda3/lib/python3.7/site-packages/distributed/deploy/local.py\u001b[0m in \u001b[0;36m_start_worker\u001b[0;34m(self, death_timeout, **kwargs)\u001b[0m\n\u001b[1;32m    215\u001b[0m         \u001b[0;32mif\u001b[0m \u001b[0mw\u001b[0m\u001b[0;34m.\u001b[0m\u001b[0mstatus\u001b[0m \u001b[0;34m==\u001b[0m \u001b[0;34m'closed'\u001b[0m \u001b[0;32mand\u001b[0m \u001b[0mself\u001b[0m\u001b[0;34m.\u001b[0m\u001b[0mscheduler\u001b[0m\u001b[0;34m.\u001b[0m\u001b[0mstatus\u001b[0m \u001b[0;34m==\u001b[0m \u001b[0;34m'running'\u001b[0m\u001b[0;34m:\u001b[0m\u001b[0;34m\u001b[0m\u001b[0;34m\u001b[0m\u001b[0m\n\u001b[1;32m    216\u001b[0m             \u001b[0mself\u001b[0m\u001b[0;34m.\u001b[0m\u001b[0mworkers\u001b[0m\u001b[0;34m.\u001b[0m\u001b[0mremove\u001b[0m\u001b[0;34m(\u001b[0m\u001b[0mw\u001b[0m\u001b[0;34m)\u001b[0m\u001b[0;34m\u001b[0m\u001b[0;34m\u001b[0m\u001b[0m\n\u001b[0;32m--> 217\u001b[0;31m             \u001b[0;32mraise\u001b[0m \u001b[0mgen\u001b[0m\u001b[0;34m.\u001b[0m\u001b[0mTimeoutError\u001b[0m\u001b[0;34m(\u001b[0m\u001b[0;34m\"Worker failed to start\"\u001b[0m\u001b[0;34m)\u001b[0m\u001b[0;34m\u001b[0m\u001b[0;34m\u001b[0m\u001b[0m\n\u001b[0m\u001b[1;32m    218\u001b[0m \u001b[0;34m\u001b[0m\u001b[0m\n\u001b[1;32m    219\u001b[0m         \u001b[0;32mraise\u001b[0m \u001b[0mgen\u001b[0m\u001b[0;34m.\u001b[0m\u001b[0mReturn\u001b[0m\u001b[0;34m(\u001b[0m\u001b[0mw\u001b[0m\u001b[0;34m)\u001b[0m\u001b[0;34m\u001b[0m\u001b[0;34m\u001b[0m\u001b[0m\n",
      "\u001b[0;31mTimeoutError\u001b[0m: Worker failed to start"
     ]
    }
   ],
   "source": [
    "client = Client()"
   ]
  },
  {
   "cell_type": "code",
   "execution_count": 19,
   "metadata": {},
   "outputs": [
    {
     "name": "stdout",
     "output_type": "stream",
     "text": [
      "<Client: scheduler='tcp://10.2.1.39:34010' processes=0 cores=0>\n"
     ]
    }
   ],
   "source": [
    "print(client)"
   ]
  },
  {
   "cell_type": "code",
   "execution_count": 20,
   "metadata": {},
   "outputs": [
    {
     "data": {
      "text/plain": [
       "'http://10.2.1.39:8787/status'"
      ]
     },
     "execution_count": 20,
     "metadata": {},
     "output_type": "execute_result"
    }
   ],
   "source": [
    "cluster.dashboard_link"
   ]
  },
  {
   "cell_type": "code",
   "execution_count": 22,
   "metadata": {},
   "outputs": [
    {
     "data": {
      "text/plain": [
       "<bound method JobQueueCluster.start_workers of SLURMCluster(cores=0, memory=0 B, workers=0/8, jobs=0/8)>"
      ]
     },
     "execution_count": 22,
     "metadata": {},
     "output_type": "execute_result"
    }
   ],
   "source": [
    "cluster.start_workers"
   ]
  },
  {
   "cell_type": "code",
   "execution_count": 23,
   "metadata": {},
   "outputs": [],
   "source": [
    "cluster.scale(8)"
   ]
  },
  {
   "cell_type": "code",
   "execution_count": 24,
   "metadata": {},
   "outputs": [
    {
     "name": "stderr",
     "output_type": "stream",
     "text": [
      "Exception ignored in: <generator object Scheduler.add_client at 0x2aaae7a84de0>\n",
      "RuntimeError: generator ignored GeneratorExit\n",
      "Exception ignored in: <generator object Scheduler.add_client at 0x2aaae7b31f48>\n",
      "RuntimeError: generator ignored GeneratorExit\n"
     ]
    }
   ],
   "source": [
    "cluster.close()"
   ]
  },
  {
   "cell_type": "code",
   "execution_count": 12,
   "metadata": {},
   "outputs": [],
   "source": [
    "t0 = time.time()\n",
    "total_pix = np.zeros((180, 360))\n",
    "cloud_pix = np.zeros((180, 360))"
   ]
  },
  {
   "cell_type": "code",
   "execution_count": 13,
   "metadata": {},
   "outputs": [],
   "source": [
    "def ingest_data(M03_dir, M06_dir):\n",
    "    M03_files = sorted(glob.glob(M03_dir + \"MYD03.A2008*.hdf\"))\n",
    "    M06_files = sorted(glob.glob(M06_dir + \"MYD06_L2.A2008*.hdf\"))\n",
    "    for M03, M06 in zip (M03_files, M06_files):\n",
    "        d06 = xr.open_mfdataset(M06[:], parallel=True)['Cloud_Mask_1km'][:,:,:].values\n",
    "        d06CM = d06[::3,::3,0]\n",
    "        ds06_decoded = (np.array(d06CM, dtype = \"byte\") & 0b00000110) >> 1\n",
    "        d03_lat = xr.open_mfdataset(M03[:], drop_variables = \"Scan Type\", parallel=True)['Latitude'][:,:].values\n",
    "        d03_lon = xr.open_mfdataset(M03[:], drop_variables = \"Scan Type\", parallel=True)['Longitude'][:,:].values\n",
    "\n",
    "        lat = d03_lat[::3,::3]\n",
    "        lon = d03_lon[::3,::3]\n",
    "\n",
    "        l_index = (lat + 89.5).astype(int).reshape(lat.shape[0]*lat.shape[1])\n",
    "        lat_index = np.where(l_index > -1, l_index, 0)\n",
    "        ll_index = (lon + 179.5).astype(int).reshape(lon.shape[0]*lon.shape[1])\n",
    "        lon_index = np.where(ll_index > -1, ll_index, 0)\n",
    "        for i, j in zip(lat_index, lon_index):\n",
    "            total_pix[i,j] += 1\n",
    "\n",
    "        indicies = np.nonzero(ds06_decoded <= 0)\n",
    "        row_i = indicies[0]\n",
    "        column_i = indicies[1]\n",
    "        cloud_lon = [lon_index.reshape(ds06_decoded.shape[0],ds06_decoded.shape[1])[i,j] for i, j in zip(row_i, column_i)]\n",
    "        cloud_lat = [lat_index.reshape(ds06_decoded.shape[0],ds06_decoded.shape[1])[i,j] for i, j in zip(row_i, column_i)]\n",
    "\n",
    "        for x, y in zip(cloud_lat, cloud_lon):\n",
    "            cloud_pix[int(x),int(y)] += 1\n",
    "            \n",
    "    return cloud_pix, total_pix"
   ]
  },
  {
   "cell_type": "code",
   "execution_count": null,
   "metadata": {},
   "outputs": [],
   "source": [
    "t0 = time.time()\n",
    "import dask.multiprocessing\n",
    "dask.config.set(num_workers=8)\n",
    "M03_dir = \"/home/savio1/cybertrn_common/Data/Satellite_Observations/MODIS/MYD03/\"\n",
    "M06_dir = \"/home/savio1/cybertrn_common/Data/Satellite_Observations/MODIS/MYD06_L2/\"\n",
    "future1 = client.submit(ingest_data,M03_dir,M06_dir)\n",
    "result1 = client.gather(future1)"
   ]
  },
  {
   "cell_type": "code",
   "execution_count": null,
   "metadata": {},
   "outputs": [],
   "source": [
    "future1.result()"
   ]
  },
  {
   "cell_type": "code",
   "execution_count": null,
   "metadata": {},
   "outputs": [],
   "source": [
    "cf1 = future1.result()[0]/future1.result()[1]"
   ]
  },
  {
   "cell_type": "code",
   "execution_count": null,
   "metadata": {},
   "outputs": [],
   "source": [
    "plt.figure(figsize=(14,7))\n",
    "plt.contourf(range(-180,180), range(-90,90), cf1, 100, cmap = \"jet\")\n",
    "plt.xlabel(\"Longitude\", fontsize = 14)\n",
    "plt.ylabel(\"Latitude\", fontsize = 14)\n",
    "plt.title(\"Level 3 Cloud Fraction Aggregation For One Month %s\" %now_string, fontsize = 16)\n",
    "plt.colorbar()\n",
    "plt.savefig(\"/umbc/xfs1/jianwu/common/MODIS_Aggregation/savioexe/test/8/%s.png\" %now_string)"
   ]
  },
  {
   "cell_type": "code",
   "execution_count": null,
   "metadata": {},
   "outputs": [],
   "source": [
    "cf2 = xr.DataArray(cf1)\n",
    "cf2.to_netcdf(\"/umbc/xfs1/jianwu/common/MODIS_Aggregation/savioexe/test/8/%s.hdf\" %now_string)"
   ]
  },
  {
   "cell_type": "code",
   "execution_count": null,
   "metadata": {},
   "outputs": [],
   "source": [
    "t1 = time.time()\n",
    "total = t1-t0\n",
    "print(total)"
   ]
  },
  {
   "cell_type": "code",
   "execution_count": null,
   "metadata": {},
   "outputs": [],
   "source": [
    "print(total/3600,\"hours\")"
   ]
  },
  {
   "cell_type": "code",
   "execution_count": null,
   "metadata": {},
   "outputs": [],
   "source": [
    "cluster.pending_jobs"
   ]
  },
  {
   "cell_type": "code",
   "execution_count": null,
   "metadata": {},
   "outputs": [],
   "source": [
    "cluster.close()"
   ]
  },
  {
   "cell_type": "code",
   "execution_count": null,
   "metadata": {},
   "outputs": [],
   "source": [
    "client.close()"
   ]
  },
  {
   "cell_type": "code",
   "execution_count": null,
   "metadata": {},
   "outputs": [],
   "source": [
    "!squeue -u savio1"
   ]
  },
  {
   "cell_type": "code",
   "execution_count": null,
   "metadata": {},
   "outputs": [],
   "source": []
  }
 ],
 "metadata": {
  "kernelspec": {
   "display_name": "Python 3",
   "language": "python",
   "name": "python3"
  },
  "language_info": {
   "codemirror_mode": {
    "name": "ipython",
    "version": 3
   },
   "file_extension": ".py",
   "mimetype": "text/x-python",
   "name": "python",
   "nbconvert_exporter": "python",
   "pygments_lexer": "ipython3",
   "version": "3.7.3"
  }
 },
 "nbformat": 4,
 "nbformat_minor": 2
}
