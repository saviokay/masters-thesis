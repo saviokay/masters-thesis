{
 "cells": [
  {
   "cell_type": "code",
   "execution_count": 1,
   "metadata": {},
   "outputs": [],
   "source": [
    "import dask\n",
    "import numpy as np\n",
    "import xarray as xr\n",
    "import glob\n",
    "import matplotlib.pyplot as plt\n",
    "import time\n",
    "import datetime\n",
    "from dask_jobqueue import SLURMCluster\n",
    "from dask.distributed import Client\n",
    "import warnings"
   ]
  },
  {
   "cell_type": "code",
   "execution_count": 2,
   "metadata": {},
   "outputs": [
    {
     "data": {
      "text/plain": [
       "'2019-07-06_Saturday_170020'"
      ]
     },
     "execution_count": 2,
     "metadata": {},
     "output_type": "execute_result"
    }
   ],
   "source": [
    "warnings.filterwarnings('ignore')\n",
    "now = datetime.datetime.now()\n",
    "now_string = str(now.strftime(\"%Y-%m-%d_%A_%H%M%S\"))\n",
    "now_string"
   ]
  },
  {
   "cell_type": "code",
   "execution_count": 3,
   "metadata": {},
   "outputs": [],
   "source": [
    "cluster = SLURMCluster(cores=16, memory='20GB', project='pi_jianwu', walltime='20:00:00', queue='high_mem', job_extra=['--qos=medium+','--exclusive'])"
   ]
  },
  {
   "cell_type": "code",
   "execution_count": 4,
   "metadata": {},
   "outputs": [],
   "source": [
    "cluster.scale(10)"
   ]
  },
  {
   "cell_type": "code",
   "execution_count": 5,
   "metadata": {},
   "outputs": [
    {
     "name": "stdout",
     "output_type": "stream",
     "text": [
      "             JOBID PARTITION     NAME     USER ST       TIME  NODES NODELIST(REASON)\n",
      "           1075473  high_mem dask-wor   savio1 PD       0:00      1 (None)\n",
      "           1075474  high_mem dask-wor   savio1 PD       0:00      1 (None)\n",
      "           1075475  high_mem dask-wor   savio1 PD       0:00      1 (None)\n",
      "           1075476  high_mem dask-wor   savio1 PD       0:00      1 (None)\n",
      "           1075477  high_mem dask-wor   savio1 PD       0:00      1 (None)\n",
      "           1075478  high_mem dask-wor   savio1 PD       0:00      1 (None)\n",
      "           1075479  high_mem dask-wor   savio1 PD       0:00      1 (None)\n",
      "           1075480  high_mem dask-wor   savio1 PD       0:00      1 (None)\n",
      "           1075481  high_mem dask-wor   savio1 PD       0:00      1 (None)\n",
      "           1075482  high_mem dask-wor   savio1 PD       0:00      1 (None)\n",
      "           1075472  high_mem   tunnel   savio1  R      20:10     16 cnode[009-024]\n"
     ]
    }
   ],
   "source": [
    "!squeue -u savio1"
   ]
  },
  {
   "cell_type": "code",
   "execution_count": 6,
   "metadata": {},
   "outputs": [],
   "source": [
    "client = Client()"
   ]
  },
  {
   "cell_type": "code",
   "execution_count": 22,
   "metadata": {},
   "outputs": [
    {
     "data": {
      "text/plain": [
       "'http://10.2.1.9:43786/status'"
      ]
     },
     "execution_count": 22,
     "metadata": {},
     "output_type": "execute_result"
    }
   ],
   "source": [
    "cluster.dashboard_link"
   ]
  },
  {
   "cell_type": "code",
   "execution_count": 17,
   "metadata": {},
   "outputs": [
    {
     "data": {
      "text/plain": [
       "OrderedDict([('1075475',\n",
       "              {'dask-worker--1075475--': <Worker 'tcp://10.2.1.25:34940', memory: 0, processing: 0>}),\n",
       "             ('1075473',\n",
       "              {'dask-worker--1075473--': <Worker 'tcp://10.2.1.6:39489', memory: 0, processing: 0>}),\n",
       "             ('1075474',\n",
       "              {'dask-worker--1075474--': <Worker 'tcp://10.2.1.7:36198', memory: 0, processing: 0>}),\n",
       "             ('1075480',\n",
       "              {'dask-worker--1075480--': <Worker 'tcp://10.2.1.31:43873', memory: 0, processing: 0>}),\n",
       "             ('1075479',\n",
       "              {'dask-worker--1075479--': <Worker 'tcp://10.2.1.29:44901', memory: 0, processing: 0>}),\n",
       "             ('1075476',\n",
       "              {'dask-worker--1075476--': <Worker 'tcp://10.2.1.26:43100', memory: 0, processing: 0>}),\n",
       "             ('1075478',\n",
       "              {'dask-worker--1075478--': <Worker 'tcp://10.2.1.28:33539', memory: 0, processing: 0>}),\n",
       "             ('1075477',\n",
       "              {'dask-worker--1075477--': <Worker 'tcp://10.2.1.27:39142', memory: 0, processing: 0>}),\n",
       "             ('1075481',\n",
       "              {'dask-worker--1075481--': <Worker 'tcp://10.2.1.32:35519', memory: 0, processing: 0>})])"
      ]
     },
     "execution_count": 17,
     "metadata": {},
     "output_type": "execute_result"
    }
   ],
   "source": [
    "cluster.running_jobs"
   ]
  },
  {
   "cell_type": "code",
   "execution_count": 18,
   "metadata": {},
   "outputs": [
    {
     "data": {
      "text/plain": [
       "OrderedDict([('1075482', {})])"
      ]
     },
     "execution_count": 18,
     "metadata": {},
     "output_type": "execute_result"
    }
   ],
   "source": [
    "cluster.pending_jobs"
   ]
  },
  {
   "cell_type": "code",
   "execution_count": 19,
   "metadata": {},
   "outputs": [
    {
     "data": {
      "text/plain": [
       "'tcp://10.2.1.9:42294'"
      ]
     },
     "execution_count": 19,
     "metadata": {},
     "output_type": "execute_result"
    }
   ],
   "source": [
    "cluster.scheduler_address"
   ]
  },
  {
   "cell_type": "code",
   "execution_count": 20,
   "metadata": {},
   "outputs": [],
   "source": [
    "client = Client('10.2.1.9:42294')"
   ]
  },
  {
   "cell_type": "code",
   "execution_count": 21,
   "metadata": {},
   "outputs": [
    {
     "name": "stdout",
     "output_type": "stream",
     "text": [
      "<Client: scheduler='tcp://10.2.1.9:42294' processes=9 cores=144>\n"
     ]
    }
   ],
   "source": [
    "print(client)"
   ]
  },
  {
   "cell_type": "code",
   "execution_count": 10,
   "metadata": {},
   "outputs": [],
   "source": [
    "t0 = time.time()\n",
    "total_pix = np.zeros((180, 360))\n",
    "cloud_pix = np.zeros((180, 360))"
   ]
  },
  {
   "cell_type": "code",
   "execution_count": 11,
   "metadata": {},
   "outputs": [],
   "source": [
    "def ingest_data(M03_dir, M06_dir):\n",
    "    M03_files = sorted(glob.glob(M03_dir + \"MYD03.A2008*.hdf\"))\n",
    "    M06_files = sorted(glob.glob(M06_dir + \"MYD06_L2.A2008*.hdf\"))\n",
    "    for M03, M06 in zip (M03_files, M06_files):\n",
    "        d06 = xr.open_mfdataset(M06[:], parallel=True)['Cloud_Mask_1km'][:,:,:].values\n",
    "        d06CM = d06[::3,::3,0]\n",
    "        ds06_decoded = (np.array(d06CM, dtype = \"byte\") & 0b00000110) >> 1\n",
    "        d03_lat = xr.open_mfdataset(M03[:], drop_variables = \"Scan Type\", parallel=True)['Latitude'][:,:].values\n",
    "        d03_lon = xr.open_mfdataset(M03[:], drop_variables = \"Scan Type\", parallel=True)['Longitude'][:,:].values\n",
    "\n",
    "        lat = d03_lat[::3,::3]\n",
    "        lon = d03_lon[::3,::3]\n",
    "\n",
    "        l_index = (lat + 89.5).astype(int).reshape(lat.shape[0]*lat.shape[1])\n",
    "        lat_index = np.where(l_index > -1, l_index, 0)\n",
    "        ll_index = (lon + 179.5).astype(int).reshape(lon.shape[0]*lon.shape[1])\n",
    "        lon_index = np.where(ll_index > -1, ll_index, 0)\n",
    "        for i, j in zip(lat_index, lon_index):\n",
    "            total_pix[i,j] += 1\n",
    "\n",
    "        indicies = np.nonzero(ds06_decoded <= 0)\n",
    "        row_i = indicies[0]\n",
    "        column_i = indicies[1]\n",
    "        cloud_lon = [lon_index.reshape(ds06_decoded.shape[0],ds06_decoded.shape[1])[i,j] for i, j in zip(row_i, column_i)]\n",
    "        cloud_lat = [lat_index.reshape(ds06_decoded.shape[0],ds06_decoded.shape[1])[i,j] for i, j in zip(row_i, column_i)]\n",
    "\n",
    "        for x, y in zip(cloud_lat, cloud_lon):\n",
    "            cloud_pix[int(x),int(y)] += 1\n",
    "            \n",
    "    return cloud_pix, total_pix"
   ]
  },
  {
   "cell_type": "code",
   "execution_count": null,
   "metadata": {},
   "outputs": [],
   "source": [
    "t0 = time.time()\n",
    "import dask.multiprocessing\n",
    "dask.config.set(num_workers=5)\n",
    "M03_dir = \"/home/savio1/cybertrn_common/Data/Satellite_Observations/MODIS/MYD03/\"\n",
    "M06_dir = \"/home/savio1/cybertrn_common/Data/Satellite_Observations/MODIS/MYD06_L2/\"\n",
    "future1 = client.submit(ingest_data,M03_dir,M06_dir)\n",
    "result1 = client.gather(future1)"
   ]
  },
  {
   "cell_type": "code",
   "execution_count": null,
   "metadata": {},
   "outputs": [],
   "source": [
    "future1.result()"
   ]
  },
  {
   "cell_type": "code",
   "execution_count": null,
   "metadata": {},
   "outputs": [],
   "source": [
    "cf1 = future1.result()[0]/future1.result()[1]"
   ]
  },
  {
   "cell_type": "code",
   "execution_count": null,
   "metadata": {},
   "outputs": [],
   "source": [
    "plt.figure(figsize=(14,7))\n",
    "plt.contourf(range(-180,180), range(-90,90), cf1, 100, cmap = \"jet\")\n",
    "plt.xlabel(\"Longitude\", fontsize = 14)\n",
    "plt.ylabel(\"Latitude\", fontsize = 14)\n",
    "plt.title(\"Level 3 Cloud Fraction Aggregation For One Month %s\" %now_string, fontsize = 16)\n",
    "plt.colorbar()\n",
    "plt.savefig(\"/umbc/xfs1/jianwu/common/MODIS_Aggregation/savioexe/test/8/%s.png\" %now_string)"
   ]
  },
  {
   "cell_type": "code",
   "execution_count": null,
   "metadata": {},
   "outputs": [],
   "source": [
    "cf2 = xr.DataArray(cf1)\n",
    "cf2.to_netcdf(\"/umbc/xfs1/jianwu/common/MODIS_Aggregation/savioexe/test/8/%s.hdf\" %now_string)"
   ]
  },
  {
   "cell_type": "code",
   "execution_count": null,
   "metadata": {},
   "outputs": [],
   "source": [
    "t1 = time.time()\n",
    "total = t1-t0\n",
    "print(total)"
   ]
  },
  {
   "cell_type": "code",
   "execution_count": null,
   "metadata": {},
   "outputs": [],
   "source": [
    "print(total/3600,\"hours\")"
   ]
  },
  {
   "cell_type": "code",
   "execution_count": null,
   "metadata": {},
   "outputs": [],
   "source": [
    "cluster.pending_jobs"
   ]
  },
  {
   "cell_type": "code",
   "execution_count": null,
   "metadata": {},
   "outputs": [],
   "source": [
    "cluster.close()"
   ]
  },
  {
   "cell_type": "code",
   "execution_count": null,
   "metadata": {},
   "outputs": [],
   "source": [
    "client.close()"
   ]
  },
  {
   "cell_type": "code",
   "execution_count": null,
   "metadata": {},
   "outputs": [],
   "source": [
    "!squeue -u savio1"
   ]
  }
 ],
 "metadata": {
  "kernelspec": {
   "display_name": "Python 3",
   "language": "python",
   "name": "python3"
  },
  "language_info": {
   "codemirror_mode": {
    "name": "ipython",
    "version": 3
   },
   "file_extension": ".py",
   "mimetype": "text/x-python",
   "name": "python",
   "nbconvert_exporter": "python",
   "pygments_lexer": "ipython3",
   "version": "3.7.1"
  }
 },
 "nbformat": 4,
 "nbformat_minor": 2
}
