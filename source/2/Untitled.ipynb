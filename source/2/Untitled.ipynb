{
 "cells": [
  {
   "cell_type": "code",
   "execution_count": 1,
   "metadata": {},
   "outputs": [],
   "source": [
    "import dask\n",
    "import numpy as np\n",
    "import xarray as xr\n",
    "import glob\n",
    "import matplotlib.pyplot as plt\n",
    "import time"
   ]
  },
  {
   "cell_type": "code",
   "execution_count": 12,
   "metadata": {},
   "outputs": [
    {
     "data": {
      "application/vnd.jupyter.widget-view+json": {
       "model_id": "9456b33d639f45199f57719ac3569c58",
       "version_major": 2,
       "version_minor": 0
      },
      "text/plain": [
       "VBox(children=(HTML(value='<h2>SLURMCluster</h2>'), HBox(children=(HTML(value='\\n<div>\\n  <style scoped>\\n    …"
      ]
     },
     "metadata": {},
     "output_type": "display_data"
    }
   ],
   "source": [
    "from dask_jobqueue import SLURMCluster\n",
    "cluster = SLURMCluster(cores=16,\n",
    "                     memory=\"20GB\")\n",
    "cluster"
   ]
  },
  {
   "cell_type": "code",
   "execution_count": 18,
   "metadata": {},
   "outputs": [
    {
     "data": {
      "text/html": [
       "<table style=\"border: 2px solid white;\">\n",
       "<tr>\n",
       "<td style=\"vertical-align: top; border: 0px solid white\">\n",
       "<h3>Client</h3>\n",
       "<ul>\n",
       "  <li><b>Scheduler: </b>tcp://10.2.1.9:40736\n",
       "  <li><b>Dashboard: </b><a href='http://10.2.1.9:36816/status' target='_blank'>http://10.2.1.9:36816/status</a>\n",
       "</ul>\n",
       "</td>\n",
       "<td style=\"vertical-align: top; border: 0px solid white\">\n",
       "<h3>Cluster</h3>\n",
       "<ul>\n",
       "  <li><b>Workers: </b>0</li>\n",
       "  <li><b>Cores: </b>0</li>\n",
       "  <li><b>Memory: </b>0 B</li>\n",
       "</ul>\n",
       "</td>\n",
       "</tr>\n",
       "</table>"
      ],
      "text/plain": [
       "<Client: scheduler='tcp://10.2.1.9:40736' processes=0 cores=0>"
      ]
     },
     "execution_count": 18,
     "metadata": {},
     "output_type": "execute_result"
    }
   ],
   "source": [
    "from dask.distributed import Client\n",
    "client = Client(cluster)\n",
    "client"
   ]
  },
  {
   "cell_type": "code",
   "execution_count": 14,
   "metadata": {},
   "outputs": [
    {
     "data": {
      "text/plain": [
       "'http://10.2.1.9:36816/status'"
      ]
     },
     "execution_count": 14,
     "metadata": {},
     "output_type": "execute_result"
    }
   ],
   "source": [
    "cluster.dashboard_link"
   ]
  },
  {
   "cell_type": "code",
   "execution_count": 15,
   "metadata": {},
   "outputs": [
    {
     "name": "stdout",
     "output_type": "stream",
     "text": [
      "Collecting nbserverproxy\n",
      "  Downloading https://files.pythonhosted.org/packages/9c/23/bd11fa16ca09d26c1dd9f7356493e8a816f441b47a69650c443706f2fb87/nbserverproxy-0.8.8-py3-none-any.whl\n",
      "Requirement already satisfied: notebook in /umbc/xfs1/jianwu/common/anaconda3/lib/python3.7/site-packages (from nbserverproxy) (5.7.4)\n",
      "Requirement already satisfied: nbformat in /umbc/xfs1/jianwu/common/anaconda3/lib/python3.7/site-packages (from notebook->nbserverproxy) (4.4.0)\n",
      "Requirement already satisfied: traitlets>=4.2.1 in /umbc/xfs1/jianwu/common/anaconda3/lib/python3.7/site-packages (from notebook->nbserverproxy) (4.3.2)\n",
      "Requirement already satisfied: prometheus-client in /umbc/xfs1/jianwu/common/anaconda3/lib/python3.7/site-packages (from notebook->nbserverproxy) (0.5.0)\n",
      "Requirement already satisfied: ipython-genutils in /umbc/xfs1/jianwu/common/anaconda3/lib/python3.7/site-packages (from notebook->nbserverproxy) (0.2.0)\n",
      "Requirement already satisfied: ipykernel in /umbc/xfs1/jianwu/common/anaconda3/lib/python3.7/site-packages (from notebook->nbserverproxy) (5.1.0)\n",
      "Requirement already satisfied: pyzmq>=17 in /umbc/xfs1/jianwu/common/anaconda3/lib/python3.7/site-packages (from notebook->nbserverproxy) (17.1.2)\n",
      "Requirement already satisfied: jupyter-client>=5.2.0 in /umbc/xfs1/jianwu/common/anaconda3/lib/python3.7/site-packages (from notebook->nbserverproxy) (5.2.4)\n",
      "Requirement already satisfied: terminado>=0.8.1 in /umbc/xfs1/jianwu/common/anaconda3/lib/python3.7/site-packages (from notebook->nbserverproxy) (0.8.1)\n",
      "Requirement already satisfied: jinja2 in /umbc/xfs1/jianwu/common/anaconda3/lib/python3.7/site-packages (from notebook->nbserverproxy) (2.10)\n",
      "Requirement already satisfied: tornado>=4 in /umbc/xfs1/jianwu/common/anaconda3/lib/python3.7/site-packages (from notebook->nbserverproxy) (5.1.1)\n",
      "Requirement already satisfied: Send2Trash in /umbc/xfs1/jianwu/common/anaconda3/lib/python3.7/site-packages (from notebook->nbserverproxy) (1.5.0)\n",
      "Requirement already satisfied: jupyter-core>=4.4.0 in /umbc/xfs1/jianwu/common/anaconda3/lib/python3.7/site-packages (from notebook->nbserverproxy) (4.4.0)\n",
      "Requirement already satisfied: nbconvert in /umbc/xfs1/jianwu/common/anaconda3/lib/python3.7/site-packages (from notebook->nbserverproxy) (5.4.0)\n",
      "Requirement already satisfied: jsonschema!=2.5.0,>=2.4 in /umbc/xfs1/jianwu/common/anaconda3/lib/python3.7/site-packages (from nbformat->notebook->nbserverproxy) (2.6.0)\n",
      "Requirement already satisfied: six in /umbc/xfs1/jianwu/common/anaconda3/lib/python3.7/site-packages (from traitlets>=4.2.1->notebook->nbserverproxy) (1.12.0)\n",
      "Requirement already satisfied: decorator in /umbc/xfs1/jianwu/common/anaconda3/lib/python3.7/site-packages (from traitlets>=4.2.1->notebook->nbserverproxy) (4.3.0)\n",
      "Requirement already satisfied: ipython>=5.0.0 in /umbc/xfs1/jianwu/common/anaconda3/lib/python3.7/site-packages (from ipykernel->notebook->nbserverproxy) (7.2.0)\n",
      "Requirement already satisfied: python-dateutil>=2.1 in /umbc/xfs1/jianwu/common/anaconda3/lib/python3.7/site-packages (from jupyter-client>=5.2.0->notebook->nbserverproxy) (2.7.5)\n",
      "Requirement already satisfied: MarkupSafe>=0.23 in /umbc/xfs1/jianwu/common/anaconda3/lib/python3.7/site-packages (from jinja2->notebook->nbserverproxy) (1.1.0)\n",
      "Requirement already satisfied: mistune>=0.8.1 in /umbc/xfs1/jianwu/common/anaconda3/lib/python3.7/site-packages (from nbconvert->notebook->nbserverproxy) (0.8.4)\n",
      "Requirement already satisfied: pygments in /umbc/xfs1/jianwu/common/anaconda3/lib/python3.7/site-packages (from nbconvert->notebook->nbserverproxy) (2.3.1)\n",
      "Requirement already satisfied: entrypoints>=0.2.2 in /umbc/xfs1/jianwu/common/anaconda3/lib/python3.7/site-packages (from nbconvert->notebook->nbserverproxy) (0.2.3)\n",
      "Requirement already satisfied: bleach in /umbc/xfs1/jianwu/common/anaconda3/lib/python3.7/site-packages (from nbconvert->notebook->nbserverproxy) (3.0.2)\n",
      "Requirement already satisfied: pandocfilters>=1.4.1 in /umbc/xfs1/jianwu/common/anaconda3/lib/python3.7/site-packages (from nbconvert->notebook->nbserverproxy) (1.4.2)\n",
      "Requirement already satisfied: testpath in /umbc/xfs1/jianwu/common/anaconda3/lib/python3.7/site-packages (from nbconvert->notebook->nbserverproxy) (0.4.2)\n",
      "Requirement already satisfied: defusedxml in /umbc/xfs1/jianwu/common/anaconda3/lib/python3.7/site-packages (from nbconvert->notebook->nbserverproxy) (0.5.0)\n",
      "Requirement already satisfied: jedi>=0.10 in /umbc/xfs1/jianwu/common/anaconda3/lib/python3.7/site-packages (from ipython>=5.0.0->ipykernel->notebook->nbserverproxy) (0.13.2)\n",
      "Requirement already satisfied: pexpect; sys_platform != \"win32\" in /umbc/xfs1/jianwu/common/anaconda3/lib/python3.7/site-packages (from ipython>=5.0.0->ipykernel->notebook->nbserverproxy) (4.6.0)\n",
      "Requirement already satisfied: setuptools>=18.5 in /umbc/xfs1/jianwu/common/anaconda3/lib/python3.7/site-packages (from ipython>=5.0.0->ipykernel->notebook->nbserverproxy) (41.0.1)\n",
      "Requirement already satisfied: backcall in /umbc/xfs1/jianwu/common/anaconda3/lib/python3.7/site-packages (from ipython>=5.0.0->ipykernel->notebook->nbserverproxy) (0.1.0)\n",
      "Requirement already satisfied: pickleshare in /umbc/xfs1/jianwu/common/anaconda3/lib/python3.7/site-packages (from ipython>=5.0.0->ipykernel->notebook->nbserverproxy) (0.7.5)\n",
      "Requirement already satisfied: prompt-toolkit<2.1.0,>=2.0.0 in /umbc/xfs1/jianwu/common/anaconda3/lib/python3.7/site-packages (from ipython>=5.0.0->ipykernel->notebook->nbserverproxy) (2.0.7)\n",
      "Requirement already satisfied: webencodings in /umbc/xfs1/jianwu/common/anaconda3/lib/python3.7/site-packages (from bleach->nbconvert->notebook->nbserverproxy) (0.5.1)\n",
      "Requirement already satisfied: parso>=0.3.0 in /umbc/xfs1/jianwu/common/anaconda3/lib/python3.7/site-packages (from jedi>=0.10->ipython>=5.0.0->ipykernel->notebook->nbserverproxy) (0.3.1)\n",
      "Requirement already satisfied: ptyprocess>=0.5 in /umbc/xfs1/jianwu/common/anaconda3/lib/python3.7/site-packages (from pexpect; sys_platform != \"win32\"->ipython>=5.0.0->ipykernel->notebook->nbserverproxy) (0.6.0)\n",
      "Requirement already satisfied: wcwidth in /umbc/xfs1/jianwu/common/anaconda3/lib/python3.7/site-packages (from prompt-toolkit<2.1.0,>=2.0.0->ipython>=5.0.0->ipykernel->notebook->nbserverproxy) (0.1.7)\n",
      "Installing collected packages: nbserverproxy\n",
      "Successfully installed nbserverproxy-0.8.8\n"
     ]
    }
   ],
   "source": [
    "!pip install nbserverproxy"
   ]
  },
  {
   "cell_type": "code",
   "execution_count": 16,
   "metadata": {},
   "outputs": [
    {
     "name": "stdout",
     "output_type": "stream",
     "text": [
      "Enabling: nbserverproxy\n",
      "- Writing config: /home/savio1/.jupyter\n",
      "    - Validating...\n",
      "      nbserverproxy  \u001b[32mOK\u001b[0m\n"
     ]
    }
   ],
   "source": [
    "!jupyter serverextension enable --py nbserverproxy"
   ]
  },
  {
   "cell_type": "code",
   "execution_count": 19,
   "metadata": {},
   "outputs": [
    {
     "name": "stdout",
     "output_type": "stream",
     "text": [
      "Requirement already satisfied: dask_labextension in /umbc/xfs1/jianwu/common/anaconda3/lib/python3.7/site-packages (0.3.1)\n",
      "Requirement already satisfied: notebook>=4.3.1 in /umbc/xfs1/jianwu/common/anaconda3/lib/python3.7/site-packages (from dask_labextension) (5.7.4)\n",
      "Requirement already satisfied: distributed>=1.24.1 in /umbc/xfs1/jianwu/common/anaconda3/lib/python3.7/site-packages (from dask_labextension) (1.25.1)\n",
      "Requirement already satisfied: jupyter-core>=4.4.0 in /umbc/xfs1/jianwu/common/anaconda3/lib/python3.7/site-packages (from notebook>=4.3.1->dask_labextension) (4.4.0)\n",
      "Requirement already satisfied: jupyter-client>=5.2.0 in /umbc/xfs1/jianwu/common/anaconda3/lib/python3.7/site-packages (from notebook>=4.3.1->dask_labextension) (5.2.4)\n",
      "Requirement already satisfied: nbconvert in /umbc/xfs1/jianwu/common/anaconda3/lib/python3.7/site-packages (from notebook>=4.3.1->dask_labextension) (5.4.0)\n",
      "Requirement already satisfied: ipykernel in /umbc/xfs1/jianwu/common/anaconda3/lib/python3.7/site-packages (from notebook>=4.3.1->dask_labextension) (5.1.0)\n",
      "Requirement already satisfied: traitlets>=4.2.1 in /umbc/xfs1/jianwu/common/anaconda3/lib/python3.7/site-packages (from notebook>=4.3.1->dask_labextension) (4.3.2)\n",
      "Requirement already satisfied: nbformat in /umbc/xfs1/jianwu/common/anaconda3/lib/python3.7/site-packages (from notebook>=4.3.1->dask_labextension) (4.4.0)\n",
      "Requirement already satisfied: terminado>=0.8.1 in /umbc/xfs1/jianwu/common/anaconda3/lib/python3.7/site-packages (from notebook>=4.3.1->dask_labextension) (0.8.1)\n",
      "Requirement already satisfied: pyzmq>=17 in /umbc/xfs1/jianwu/common/anaconda3/lib/python3.7/site-packages (from notebook>=4.3.1->dask_labextension) (17.1.2)\n",
      "Requirement already satisfied: ipython-genutils in /umbc/xfs1/jianwu/common/anaconda3/lib/python3.7/site-packages (from notebook>=4.3.1->dask_labextension) (0.2.0)\n",
      "Requirement already satisfied: jinja2 in /umbc/xfs1/jianwu/common/anaconda3/lib/python3.7/site-packages (from notebook>=4.3.1->dask_labextension) (2.10)\n",
      "Requirement already satisfied: tornado>=4 in /umbc/xfs1/jianwu/common/anaconda3/lib/python3.7/site-packages (from notebook>=4.3.1->dask_labextension) (5.1.1)\n",
      "Requirement already satisfied: prometheus-client in /umbc/xfs1/jianwu/common/anaconda3/lib/python3.7/site-packages (from notebook>=4.3.1->dask_labextension) (0.5.0)\n",
      "Requirement already satisfied: Send2Trash in /umbc/xfs1/jianwu/common/anaconda3/lib/python3.7/site-packages (from notebook>=4.3.1->dask_labextension) (1.5.0)\n",
      "Requirement already satisfied: click>=6.6 in /umbc/xfs1/jianwu/common/anaconda3/lib/python3.7/site-packages (from distributed>=1.24.1->dask_labextension) (7.0)\n",
      "Requirement already satisfied: cloudpickle>=0.2.2 in /umbc/xfs1/jianwu/common/anaconda3/lib/python3.7/site-packages (from distributed>=1.24.1->dask_labextension) (0.6.1)\n",
      "Requirement already satisfied: dask>=0.18.0 in /umbc/xfs1/jianwu/common/anaconda3/lib/python3.7/site-packages (from distributed>=1.24.1->dask_labextension) (1.0.0)\n",
      "Requirement already satisfied: msgpack in /umbc/xfs1/jianwu/common/anaconda3/lib/python3.7/site-packages (from distributed>=1.24.1->dask_labextension) (0.5.6)\n",
      "Requirement already satisfied: psutil>=5.0 in /umbc/xfs1/jianwu/common/anaconda3/lib/python3.7/site-packages (from distributed>=1.24.1->dask_labextension) (5.4.8)\n",
      "Requirement already satisfied: six in /umbc/xfs1/jianwu/common/anaconda3/lib/python3.7/site-packages (from distributed>=1.24.1->dask_labextension) (1.12.0)\n",
      "Requirement already satisfied: sortedcontainers!=2.0.0,!=2.0.1 in /umbc/xfs1/jianwu/common/anaconda3/lib/python3.7/site-packages (from distributed>=1.24.1->dask_labextension) (2.1.0)\n",
      "Requirement already satisfied: tblib in /umbc/xfs1/jianwu/common/anaconda3/lib/python3.7/site-packages (from distributed>=1.24.1->dask_labextension) (1.3.2)\n",
      "Requirement already satisfied: toolz>=0.7.4 in /umbc/xfs1/jianwu/common/anaconda3/lib/python3.7/site-packages (from distributed>=1.24.1->dask_labextension) (0.9.0)\n",
      "Requirement already satisfied: zict>=0.1.3 in /umbc/xfs1/jianwu/common/anaconda3/lib/python3.7/site-packages (from distributed>=1.24.1->dask_labextension) (0.1.3)\n",
      "Requirement already satisfied: pyyaml in /umbc/xfs1/jianwu/common/anaconda3/lib/python3.7/site-packages (from distributed>=1.24.1->dask_labextension) (3.13)\n",
      "Requirement already satisfied: python-dateutil>=2.1 in /umbc/xfs1/jianwu/common/anaconda3/lib/python3.7/site-packages (from jupyter-client>=5.2.0->notebook>=4.3.1->dask_labextension) (2.7.5)\n",
      "Requirement already satisfied: mistune>=0.8.1 in /umbc/xfs1/jianwu/common/anaconda3/lib/python3.7/site-packages (from nbconvert->notebook>=4.3.1->dask_labextension) (0.8.4)\n",
      "Requirement already satisfied: pygments in /umbc/xfs1/jianwu/common/anaconda3/lib/python3.7/site-packages (from nbconvert->notebook>=4.3.1->dask_labextension) (2.3.1)\n",
      "Requirement already satisfied: entrypoints>=0.2.2 in /umbc/xfs1/jianwu/common/anaconda3/lib/python3.7/site-packages (from nbconvert->notebook>=4.3.1->dask_labextension) (0.2.3)\n",
      "Requirement already satisfied: bleach in /umbc/xfs1/jianwu/common/anaconda3/lib/python3.7/site-packages (from nbconvert->notebook>=4.3.1->dask_labextension) (3.0.2)\n",
      "Requirement already satisfied: pandocfilters>=1.4.1 in /umbc/xfs1/jianwu/common/anaconda3/lib/python3.7/site-packages (from nbconvert->notebook>=4.3.1->dask_labextension) (1.4.2)\n",
      "Requirement already satisfied: testpath in /umbc/xfs1/jianwu/common/anaconda3/lib/python3.7/site-packages (from nbconvert->notebook>=4.3.1->dask_labextension) (0.4.2)\n",
      "Requirement already satisfied: defusedxml in /umbc/xfs1/jianwu/common/anaconda3/lib/python3.7/site-packages (from nbconvert->notebook>=4.3.1->dask_labextension) (0.5.0)\n",
      "Requirement already satisfied: ipython>=5.0.0 in /umbc/xfs1/jianwu/common/anaconda3/lib/python3.7/site-packages (from ipykernel->notebook>=4.3.1->dask_labextension) (7.2.0)\n",
      "Requirement already satisfied: decorator in /umbc/xfs1/jianwu/common/anaconda3/lib/python3.7/site-packages (from traitlets>=4.2.1->notebook>=4.3.1->dask_labextension) (4.3.0)\n",
      "Requirement already satisfied: jsonschema!=2.5.0,>=2.4 in /umbc/xfs1/jianwu/common/anaconda3/lib/python3.7/site-packages (from nbformat->notebook>=4.3.1->dask_labextension) (2.6.0)\n",
      "Requirement already satisfied: MarkupSafe>=0.23 in /umbc/xfs1/jianwu/common/anaconda3/lib/python3.7/site-packages (from jinja2->notebook>=4.3.1->dask_labextension) (1.1.0)\n",
      "Requirement already satisfied: heapdict in /umbc/xfs1/jianwu/common/anaconda3/lib/python3.7/site-packages (from zict>=0.1.3->distributed>=1.24.1->dask_labextension) (1.0.0)\n",
      "Requirement already satisfied: webencodings in /umbc/xfs1/jianwu/common/anaconda3/lib/python3.7/site-packages (from bleach->nbconvert->notebook>=4.3.1->dask_labextension) (0.5.1)\n",
      "Requirement already satisfied: setuptools>=18.5 in /umbc/xfs1/jianwu/common/anaconda3/lib/python3.7/site-packages (from ipython>=5.0.0->ipykernel->notebook>=4.3.1->dask_labextension) (41.0.1)\n",
      "Requirement already satisfied: pickleshare in /umbc/xfs1/jianwu/common/anaconda3/lib/python3.7/site-packages (from ipython>=5.0.0->ipykernel->notebook>=4.3.1->dask_labextension) (0.7.5)\n",
      "Requirement already satisfied: prompt-toolkit<2.1.0,>=2.0.0 in /umbc/xfs1/jianwu/common/anaconda3/lib/python3.7/site-packages (from ipython>=5.0.0->ipykernel->notebook>=4.3.1->dask_labextension) (2.0.7)\n",
      "Requirement already satisfied: jedi>=0.10 in /umbc/xfs1/jianwu/common/anaconda3/lib/python3.7/site-packages (from ipython>=5.0.0->ipykernel->notebook>=4.3.1->dask_labextension) (0.13.2)\n",
      "Requirement already satisfied: backcall in /umbc/xfs1/jianwu/common/anaconda3/lib/python3.7/site-packages (from ipython>=5.0.0->ipykernel->notebook>=4.3.1->dask_labextension) (0.1.0)\n",
      "Requirement already satisfied: pexpect; sys_platform != \"win32\" in /umbc/xfs1/jianwu/common/anaconda3/lib/python3.7/site-packages (from ipython>=5.0.0->ipykernel->notebook>=4.3.1->dask_labextension) (4.6.0)\n",
      "Requirement already satisfied: wcwidth in /umbc/xfs1/jianwu/common/anaconda3/lib/python3.7/site-packages (from prompt-toolkit<2.1.0,>=2.0.0->ipython>=5.0.0->ipykernel->notebook>=4.3.1->dask_labextension) (0.1.7)\n",
      "Requirement already satisfied: parso>=0.3.0 in /umbc/xfs1/jianwu/common/anaconda3/lib/python3.7/site-packages (from jedi>=0.10->ipython>=5.0.0->ipykernel->notebook>=4.3.1->dask_labextension) (0.3.1)\n",
      "Requirement already satisfied: ptyprocess>=0.5 in /umbc/xfs1/jianwu/common/anaconda3/lib/python3.7/site-packages (from pexpect; sys_platform != \"win32\"->ipython>=5.0.0->ipykernel->notebook>=4.3.1->dask_labextension) (0.6.0)\n"
     ]
    }
   ],
   "source": [
    "!pip install dask_labextension"
   ]
  },
  {
   "cell_type": "code",
   "execution_count": 2,
   "metadata": {},
   "outputs": [
    {
     "name": "stdout",
     "output_type": "stream",
     "text": [
      "\n",
      "Errored, use --debug for full output:\n",
      "ValueError: Please install nodejs 5+ and npm before continuing installation. nodejs may be installed using conda or directly from the nodejs website.\n"
     ]
    }
   ],
   "source": [
    "!jupyter labextension install dask-labextension"
   ]
  },
  {
   "cell_type": "code",
   "execution_count": 1,
   "metadata": {},
   "outputs": [
    {
     "name": "stdout",
     "output_type": "stream",
     "text": [
      "Collecting nodejs\n",
      "  Using cached https://files.pythonhosted.org/packages/eb/ee/97ee0b973d072702eb2927c0eb90647cc0e4598663ed8e591c1ca4120dd9/nodejs-0.1.1.tar.gz\n",
      "Collecting optional-django==0.1.0 (from nodejs)\n",
      "  Downloading https://files.pythonhosted.org/packages/da/9e/b9b6a3854c613da94d695a2a52ca70ad1f0c65337c1b6e37f5f447964d19/optional-django-0.1.0.tar.gz\n",
      "Building wheels for collected packages: nodejs, optional-django\n",
      "  Running setup.py bdist_wheel for nodejs ... \u001b[?25ldone\n",
      "\u001b[?25h  Stored in directory: /home/savio1/.cache/pip/wheels/08/dd/8a/460c064dd7665365011f49f5431df98d59970d3b8a1599436b\n",
      "  Running setup.py bdist_wheel for optional-django ... \u001b[?25ldone\n",
      "\u001b[?25h  Stored in directory: /home/savio1/.cache/pip/wheels/b9/0f/04/efd2745af85731eae4a16fd4c33a95d3ba243b5ad9ab43a5c7\n",
      "Successfully built nodejs optional-django\n",
      "Installing collected packages: optional-django, nodejs\n",
      "Successfully installed nodejs-0.1.1 optional-django-0.1.0\n"
     ]
    }
   ],
   "source": [
    "!pip install nodejs"
   ]
  },
  {
   "cell_type": "code",
   "execution_count": null,
   "metadata": {},
   "outputs": [],
   "source": []
  }
 ],
 "metadata": {
  "kernelspec": {
   "display_name": "Python 3",
   "language": "python",
   "name": "python3"
  },
  "language_info": {
   "codemirror_mode": {
    "name": "ipython",
    "version": 3
   },
   "file_extension": ".py",
   "mimetype": "text/x-python",
   "name": "python",
   "nbconvert_exporter": "python",
   "pygments_lexer": "ipython3",
   "version": "3.7.1"
  }
 },
 "nbformat": 4,
 "nbformat_minor": 2
}
