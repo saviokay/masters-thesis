{
 "cells": [
  {
   "cell_type": "code",
   "execution_count": 2,
   "metadata": {},
   "outputs": [],
   "source": [
    "import dask\n",
    "import numpy as np\n",
    "import xarray as xr\n",
    "import glob\n",
    "import matplotlib.pyplot as plt\n",
    "import time\n",
    "#from dask_jobqueue import SLURMCluster\n",
    "from dask.distributed import Client"
   ]
  },
  {
   "cell_type": "code",
   "execution_count": 3,
   "metadata": {},
   "outputs": [
    {
     "data": {
      "text/html": [
       "<table style=\"border: 2px solid white;\">\n",
       "<tr>\n",
       "<td style=\"vertical-align: top; border: 0px solid white\">\n",
       "<h3>Client</h3>\n",
       "<ul>\n",
       "  <li><b>Scheduler: </b>tcp://10.48.75.7:45419\n",
       "  <li><b>Dashboard: </b><a href='http://10.48.75.7:8787/status' target='_blank'>http://10.48.75.7:8787/status</a>\n",
       "</ul>\n",
       "</td>\n",
       "<td style=\"vertical-align: top; border: 0px solid white\">\n",
       "<h3>Cluster</h3>\n",
       "<ul>\n",
       "  <li><b>Workers: </b>0</li>\n",
       "  <li><b>Cores: </b>0</li>\n",
       "  <li><b>Memory: </b>0 B</li>\n",
       "</ul>\n",
       "</td>\n",
       "</tr>\n",
       "</table>"
      ],
      "text/plain": [
       "<Client: scheduler='tcp://10.48.75.7:45419' processes=0 cores=0>"
      ]
     },
     "execution_count": 3,
     "metadata": {},
     "output_type": "execute_result"
    }
   ],
   "source": [
    "from dask.distributed import Client\n",
    "\n",
    "client = Client(\"tcp://10.48.75.7:45419\")\n",
    "client"
   ]
  },
  {
   "cell_type": "code",
   "execution_count": 4,
   "metadata": {},
   "outputs": [],
   "source": [
    "#cluster = SLURMCluster(cores=16, memory='20GB', project='pi_jianwu', walltime='02:00:00', queue='high_mem', job_extra=['--qos=medium+'])"
   ]
  },
  {
   "cell_type": "code",
   "execution_count": 18,
   "metadata": {},
   "outputs": [],
   "source": [
    "#cluster.scale(5)"
   ]
  },
  {
   "cell_type": "code",
   "execution_count": 5,
   "metadata": {},
   "outputs": [],
   "source": [
    "#client = Client()"
   ]
  },
  {
   "cell_type": "code",
   "execution_count": 13,
   "metadata": {},
   "outputs": [
    {
     "data": {
      "text/html": [
       "<table style=\"border: 2px solid white;\">\n",
       "<tr>\n",
       "<td style=\"vertical-align: top; border: 0px solid white\">\n",
       "<h3>Client</h3>\n",
       "<ul>\n",
       "  <li><b>Scheduler: </b>tcp://10.48.75.7:45419\n",
       "  <li><b>Dashboard: </b><a href='http://10.48.75.7:8787/status' target='_blank'>http://10.48.75.7:8787/status</a>\n",
       "</ul>\n",
       "</td>\n",
       "<td style=\"vertical-align: top; border: 0px solid white\">\n",
       "<h3>Cluster</h3>\n",
       "<ul>\n",
       "  <li><b>Workers: </b>4</li>\n",
       "  <li><b>Cores: </b>20</li>\n",
       "  <li><b>Memory: </b>137.30 GB</li>\n",
       "</ul>\n",
       "</td>\n",
       "</tr>\n",
       "</table>"
      ],
      "text/plain": [
       "<Client: scheduler='tcp://10.48.75.7:45419' processes=4 cores=20>"
      ]
     },
     "execution_count": 13,
     "metadata": {},
     "output_type": "execute_result"
    }
   ],
   "source": [
    "client"
   ]
  },
  {
   "cell_type": "code",
   "execution_count": 10,
   "metadata": {},
   "outputs": [],
   "source": [
    "t0 = time.time()\n",
    "\n",
    "#M03_dir = \"/home/savio1/cybertrn_common/Data/Satellite_Observations/MODIS/MYD03/\"\n",
    "M03_dir = \"/home/jovyan/input-data/MYD03/\"\n",
    "#M06_dir = \"/home/savio1/cybertrn_common/Data/Satellite_Observations/MODIS/MYD06_L2/\"\n",
    "M06_dir = \"/home/jovyan/input-data/MYD06/\"\n",
    "M03_files = sorted(glob.glob(M03_dir + \"MYD03.A2008*.hdf\"))\n",
    "M06_files = sorted(glob.glob(M06_dir + \"MYD06_L2.A2008*.hdf\"))\n",
    "total_pix = np.zeros((180, 360))\n",
    "cloud_pix = np.zeros((180, 360))"
   ]
  },
  {
   "cell_type": "code",
   "execution_count": 11,
   "metadata": {},
   "outputs": [],
   "source": [
    "for M03, M06 in zip (M03_files, M06_files):\n",
    "\n",
    "    d06 = xr.open_mfdataset(M06[:], parallel=True)['Cloud_Mask_1km'][:,:,:].values\n",
    "    d06CM = d06[::3,::3,0]\n",
    "    ds06_decoded = (np.array(d06CM, dtype = \"byte\") & 0b00000110) >> 1\n",
    "    d03_lat = xr.open_mfdataset(M03[:], drop_variables = \"Scan Type\", parallel=True)['Latitude'][:,:].values\n",
    "    d03_lon = xr.open_mfdataset(M03[:], drop_variables = \"Scan Type\", parallel=True)['Longitude'][:,:].values\n",
    "\n",
    "    lat = d03_lat[::3,::3]\n",
    "    lon = d03_lon[::3,::3]\n",
    "\n",
    "    l_index = (lat + 89.5).astype(int).reshape(lat.shape[0]*lat.shape[1])\n",
    "    lat_index = np.where(l_index > -1, l_index, 0)\n",
    "    ll_index = (lon + 179.5).astype(int).reshape(lon.shape[0]*lon.shape[1])\n",
    "    lon_index = np.where(ll_index > -1, ll_index, 0)\n",
    "    for i, j in zip(lat_index, lon_index):\n",
    "        total_pix[i,j] += 1\n",
    "\n",
    "    indicies = np.nonzero(ds06_decoded <= 0)\n",
    "    row_i = indicies[0]\n",
    "    column_i = indicies[1]\n",
    "    cloud_lon = [lon_index.reshape(ds06_decoded.shape[0],ds06_decoded.shape[1])[i,j] for i, j in zip(row_i, column_i)]\n",
    "    cloud_lat = [lat_index.reshape(ds06_decoded.shape[0],ds06_decoded.shape[1])[i,j] for i, j in zip(row_i, column_i)]\n",
    "\n",
    "    for x, y in zip(cloud_lat, cloud_lon):\n",
    "        cloud_pix[int(x),int(y)] += 1\n"
   ]
  },
  {
   "cell_type": "code",
   "execution_count": 12,
   "metadata": {},
   "outputs": [
    {
     "name": "stderr",
     "output_type": "stream",
     "text": [
      "/srv/conda/envs/notebook/lib/python3.6/site-packages/ipykernel_launcher.py:1: RuntimeWarning: invalid value encountered in true_divide\n",
      "  \"\"\"Entry point for launching an IPython kernel.\n"
     ]
    },
    {
     "name": "stdout",
     "output_type": "stream",
     "text": [
      "52.201626777648926\n"
     ]
    },
    {
     "data": {
      "image/png": "[encoded data removed]",
      "text/plain": [
       "<Figure size 1008x504 with 2 Axes>"
      ]
     },
     "metadata": {
      "needs_background": "light"
     },
     "output_type": "display_data"
    }
   ],
   "source": [
    "cf = cloud_pix/total_pix\n",
    "plt.figure(figsize=(14,7))\n",
    "plt.contourf(range(-180,180), range(-90,90), cf, 100, cmap = \"jet\")\n",
    "plt.xlabel(\"Longitude\", fontsize = 14)\n",
    "plt.ylabel(\"Latitude\", fontsize = 14)\n",
    "plt.title(\"Level 3 Cloud Fraction Aggregation For One Month With A Subsampling Of 3 And Parallelism [::3,::3]\", fontsize = 16)\n",
    "plt.colorbar()\n",
    "plt.savefig(\"/home/jovyan/testpara_onemonth.png\")\n",
    "cf1 = xr.DataArray(cf)\n",
    "cf1.to_netcdf(\"/home/jovyan/testpara_onemonth.hdf\")\n",
    "t1 = time.time()\n",
    "total = t1-t0\n",
    "print(total)"
   ]
  },
  {
   "cell_type": "code",
   "execution_count": 29,
   "metadata": {},
   "outputs": [],
   "source": [
    "cluster.close()"
   ]
  },
  {
   "cell_type": "code",
   "execution_count": 32,
   "metadata": {},
   "outputs": [
    {
     "name": "stderr",
     "output_type": "stream",
     "text": [
      "tornado.application - ERROR - Exception in Future <Future cancelled> after timeout\n",
      "Traceback (most recent call last):\n",
      "  File \"/umbc/xfs1/jianwu/common/anaconda3/lib/python3.7/site-packages/tornado/gen.py\", line 970, in error_callback\n",
      "    future.result()\n",
      "concurrent.futures._base.CancelledError\n"
     ]
    }
   ],
   "source": [
    "client.close()"
   ]
  },
  {
   "cell_type": "code",
   "execution_count": 33,
   "metadata": {},
   "outputs": [],
   "source": [
    "cluster.close()"
   ]
  },
  {
   "cell_type": "code",
   "execution_count": null,
   "metadata": {},
   "outputs": [],
   "source": []
  }
 ],
 "metadata": {
  "kernelspec": {
   "display_name": "Python 3",
   "language": "python",
   "name": "python3"
  },
  "language_info": {
   "codemirror_mode": {
    "name": "ipython",
    "version": 3
   },
   "file_extension": ".py",
   "mimetype": "text/x-python",
   "name": "python",
   "nbconvert_exporter": "python",
   "pygments_lexer": "ipython3",
   "version": "3.7.1"
  }
 },
 "nbformat": 4,
 "nbformat_minor": 2
}
